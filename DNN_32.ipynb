{
 "cells": [
  {
   "cell_type": "code",
   "execution_count": 1,
   "metadata": {},
   "outputs": [],
   "source": [
    "import tensorflow as tf\n",
    "physical_devices = tf.config.list_physical_devices('GPU') \n",
    "tf.config.experimental.set_memory_growth(physical_devices[0], True)\n",
    "tf.config.list_physical_devices(device_type=None)\n",
    "\n",
    "\n",
    "import tensorflow.keras\n",
    "from tensorflow.keras.datasets import fashion_mnist\n",
    "from tensorflow.keras import models\n",
    "from tensorflow.keras import layers\n",
    "import matplotlib.pyplot as plt\n",
    "import numpy as np\n",
    "\n",
    "from keras import callbacks \n",
    "from keras.constraints import maxnorm\n",
    "from keras.models import Sequential\n",
    "from keras.layers import Dense\n",
    "\n",
    "from keras.layers.convolutional import Conv2D\n",
    "from tensorflow.keras.layers import Conv2D, MaxPooling2D,Dropout,Flatten\n",
    "import keras"
   ]
  },
  {
   "cell_type": "code",
   "execution_count": 2,
   "metadata": {},
   "outputs": [
    {
     "data": {
      "text/plain": [
       "(2378, 768, 768)"
      ]
     },
     "execution_count": 2,
     "metadata": {},
     "output_type": "execute_result"
    }
   ],
   "source": [
    "img=np.load('train_image.npy')\n",
    "img.shape"
   ]
  },
  {
   "cell_type": "code",
   "execution_count": 3,
   "metadata": {},
   "outputs": [],
   "source": [
    "#data preprocessing--------------------------------------------------------------------------------\n",
    "#DNN 4 slices, each slice size:32*32\n",
    "#use 32*32 image to predict 20*20 image\n",
    "\n",
    "\n",
    "#create trainset\n",
    "DNN_train=np.zeros((2375*4,32,32,3))\n",
    "\n",
    "#1st slice\n",
    "DNN_train[:2375,:,:,0]=img[:-3][:,:32,:32]\n",
    "DNN_train[:2375,:,:,1]=img[1:-2][:,:32,:32]\n",
    "DNN_train[:2375,:,:,2]=img[2:-1][:,:32,:32]\n",
    "\n",
    "#2nd slice\n",
    "DNN_train[2375:2375*2,:,:,0]=img[:-3][:,32:64,32:64]\n",
    "DNN_train[2375:2375*2,:,:,1]=img[1:-2][:,32:64,32:64]\n",
    "DNN_train[2375:2375*2,:,:,2]=img[2:-1][:,32:64,32:64]\n",
    "\n",
    "#3rd slice \n",
    "DNN_train[2375*2:2375*3,:,:,0]=img[:-3][:,64:96,64:96]\n",
    "DNN_train[2375*2:2375*3,:,:,1]=img[1:-2][:,64:96,64:96]\n",
    "DNN_train[2375*2:2375*3,:,:,2]=img[2:-1][:,64:96,64:96]\n",
    "\n",
    "#4th slice\n",
    "DNN_train[2375*3:2375*4,:,:,0]=img[:-3][:,96:128,96:128]\n",
    "DNN_train[2375*3:2375*4,:,:,1]=img[1:-2][:,96:128,96:128]\n",
    "DNN_train[2375*3:2375*4,:,:,2]=img[2:-1][:,96:128,96:128]\n",
    "\n",
    "\n",
    "label=np.zeros((2375*4,20*20))\n",
    "label[:2375]=img[3:][:,6:26,6:26].reshape(2375,20*20)\n",
    "label[2375:2375*2]=img[3:][:,38:58,38:58].reshape(2375,20*20)\n",
    "label[2375*2:2375*3]=img[3:][:,70:90,70:90].reshape(2375,20*20)\n",
    "label[2375*3:2375*4]=img[3:][:,102:122,102:122].reshape(2375,20*20)"
   ]
  },
  {
   "cell_type": "code",
   "execution_count": 4,
   "metadata": {},
   "outputs": [
    {
     "data": {
      "text/plain": [
       "(9500, 400)"
      ]
     },
     "execution_count": 4,
     "metadata": {},
     "output_type": "execute_result"
    }
   ],
   "source": [
    "label.shape"
   ]
  },
  {
   "cell_type": "code",
   "execution_count": 5,
   "metadata": {},
   "outputs": [
    {
     "data": {
      "text/plain": [
       "(9500, 32, 32, 3)"
      ]
     },
     "execution_count": 5,
     "metadata": {},
     "output_type": "execute_result"
    }
   ],
   "source": [
    "DNN_train.shape"
   ]
  },
  {
   "cell_type": "code",
   "execution_count": 6,
   "metadata": {},
   "outputs": [],
   "source": [
    "np.save('DNNtrain32.npy',DNN_train)\n",
    "np.save('DNNtrain_label32.npy',label)"
   ]
  },
  {
   "cell_type": "code",
   "execution_count": 7,
   "metadata": {},
   "outputs": [
    {
     "data": {
      "text/plain": [
       "(598, 768, 768)"
      ]
     },
     "execution_count": 7,
     "metadata": {},
     "output_type": "execute_result"
    }
   ],
   "source": [
    "img1=np.load('test_image.npy')\n",
    "img1.shape"
   ]
  },
  {
   "cell_type": "code",
   "execution_count": 8,
   "metadata": {},
   "outputs": [],
   "source": [
    "#Create testset\n",
    "DNN_test=np.zeros((595*4,32,32,3))\n",
    "\n",
    "DNN_test[:595,:,:,0]=img1[:-3][:,:32,:32]\n",
    "DNN_test[:595,:,:,1]=img1[1:-2][:,:32,:32]\n",
    "DNN_test[:595,:,:,2]=img1[2:-1][:,:32,:32]\n",
    "\n",
    "DNN_test[595:595*2,:,:,0]=img1[:-3][:,32:64,32:64]\n",
    "DNN_test[595:595*2,:,:,1]=img1[1:-2][:,32:64,32:64]\n",
    "DNN_test[595:595*2,:,:,2]=img1[2:-1][:,32:64,32:64]\n",
    "\n",
    "DNN_test[595*2:595*3,:,:,0]=img1[:-3][:,64:96,64:96]\n",
    "DNN_test[595*2:595*3,:,:,1]=img1[1:-2][:,64:96,64:96]\n",
    "DNN_test[595*2:595*3,:,:,2]=img1[2:-1][:,64:96,64:96]\n",
    "\n",
    "DNN_test[595*3:595*4,:,:,0]=img1[:-3][:,96:128,96:128]\n",
    "DNN_test[595*3:595*4,:,:,1]=img1[1:-2][:,96:128,96:128]\n",
    "DNN_test[595*3:595*4,:,:,2]=img1[2:-1][:,96:128,96:128]\n",
    "\n",
    "label=np.zeros((595*4,20*20))\n",
    "label[:595]=img1[3:][:,6:26,6:26].reshape(595,20*20)\n",
    "label[595:595*2]=img1[3:][:,38:58,38:58].reshape(595,20*20)\n",
    "label[595*2:595*3]=img1[3:][:,70:90,70:90].reshape(595,20*20)\n",
    "label[595*3:595*4]=img1[3:][:,102:122,102:122].reshape(595,20*20)"
   ]
  },
  {
   "cell_type": "code",
   "execution_count": 9,
   "metadata": {},
   "outputs": [
    {
     "data": {
      "text/plain": [
       "(2380, 400)"
      ]
     },
     "execution_count": 9,
     "metadata": {},
     "output_type": "execute_result"
    }
   ],
   "source": [
    "label.shape"
   ]
  },
  {
   "cell_type": "code",
   "execution_count": 10,
   "metadata": {},
   "outputs": [
    {
     "data": {
      "text/plain": [
       "(2380, 32, 32, 3)"
      ]
     },
     "execution_count": 10,
     "metadata": {},
     "output_type": "execute_result"
    }
   ],
   "source": [
    "DNN_test.shape"
   ]
  },
  {
   "cell_type": "code",
   "execution_count": 11,
   "metadata": {},
   "outputs": [],
   "source": [
    "np.save('DNNtest32.npy',DNN_test)\n",
    "np.save('DNNtest_label32.npy',label)"
   ]
  },
  {
   "cell_type": "code",
   "execution_count": 2,
   "metadata": {},
   "outputs": [
    {
     "data": {
      "text/plain": [
       "(9500, 32, 32, 3)"
      ]
     },
     "execution_count": 2,
     "metadata": {},
     "output_type": "execute_result"
    }
   ],
   "source": [
    "#Import data--------------------------------------------------------------------------------------------\n",
    "img=np.load('DNNtrain32.npy')\n",
    "lb=np.load('DNNtrain_label32.npy')\n",
    "img.shape #shape of trainset image"
   ]
  },
  {
   "cell_type": "code",
   "execution_count": 3,
   "metadata": {},
   "outputs": [
    {
     "data": {
      "text/plain": [
       "(9500, 400)"
      ]
     },
     "execution_count": 3,
     "metadata": {},
     "output_type": "execute_result"
    }
   ],
   "source": [
    "lb.shape #shape of trainset label"
   ]
  },
  {
   "cell_type": "code",
   "execution_count": 4,
   "metadata": {},
   "outputs": [
    {
     "data": {
      "text/plain": [
       "(2380, 32, 32, 3)"
      ]
     },
     "execution_count": 4,
     "metadata": {},
     "output_type": "execute_result"
    }
   ],
   "source": [
    "test_img=np.load('DNNtest32.npy')\n",
    "test_lb=np.load('DNNtest_label32.npy')\n",
    "test_img.shape #shape of testset image"
   ]
  },
  {
   "cell_type": "code",
   "execution_count": 5,
   "metadata": {},
   "outputs": [
    {
     "data": {
      "text/plain": [
       "(2380, 400)"
      ]
     },
     "execution_count": 5,
     "metadata": {},
     "output_type": "execute_result"
    }
   ],
   "source": [
    "test_lb.shape #shape of testset label"
   ]
  },
  {
   "cell_type": "code",
   "execution_count": 6,
   "metadata": {},
   "outputs": [
    {
     "name": "stdout",
     "output_type": "stream",
     "text": [
      "Model: \"sequential\"\n",
      "_________________________________________________________________\n",
      "Layer (type)                 Output Shape              Param #   \n",
      "=================================================================\n",
      "flatten (Flatten)            (None, 3072)              0         \n",
      "_________________________________________________________________\n",
      "dense (Dense)                (None, 1024)              3146752   \n",
      "_________________________________________________________________\n",
      "dense_1 (Dense)              (None, 4000)              4100000   \n",
      "_________________________________________________________________\n",
      "dropout (Dropout)            (None, 4000)              0         \n",
      "_________________________________________________________________\n",
      "dense_2 (Dense)              (None, 1024)              4097024   \n",
      "_________________________________________________________________\n",
      "dense_3 (Dense)              (None, 400)               410000    \n",
      "=================================================================\n",
      "Total params: 11,753,776\n",
      "Trainable params: 11,753,776\n",
      "Non-trainable params: 0\n",
      "_________________________________________________________________\n"
     ]
    }
   ],
   "source": [
    "#create DNN model--------------------------------------------------------------------------------------\n",
    "with tf.device(\"cpu:0\"):\n",
    "    def create_model():\n",
    "\n",
    "        model = Sequential()\n",
    "        model.add(keras.Input(shape=(32,32,3)))\n",
    "        model.add(Flatten())\n",
    "        model.add(Dense(1024,activation='relu'))\n",
    "        model.add(Dense(4000,activation='relu'))\n",
    "        model.add(Dropout(0.3))\n",
    "        model.add(Dense(1024,activation='relu'))\n",
    "        model.add(Dense(20*20))\n",
    "        model.summary()\n",
    "        \n",
    "        eval_type1 = 'mean_squared_error'\n",
    "        eval_type2=tf.keras.metrics.RootMeanSquaredError()\n",
    "\n",
    "        model.compile(loss='mean_squared_error',optimizer='adam',metrics=[eval_type1,eval_type2])\n",
    "        \n",
    "        return model\n",
    "\n",
    "model=create_model()"
   ]
  },
  {
   "cell_type": "code",
   "execution_count": 10,
   "metadata": {},
   "outputs": [],
   "source": [
    "#define batch size and epochs \n",
    "bsize=20\n",
    "epch=40"
   ]
  },
  {
   "cell_type": "code",
   "execution_count": 11,
   "metadata": {},
   "outputs": [
    {
     "name": "stdout",
     "output_type": "stream",
     "text": [
      "Epoch 1/40\n",
      "428/428 [==============================] - 2s 5ms/step - loss: 3.6542 - mean_squared_error: 3.6542 - root_mean_squared_error: 1.9116 - val_loss: 4.4151 - val_mean_squared_error: 4.4151 - val_root_mean_squared_error: 2.1012\n",
      "Epoch 2/40\n",
      "428/428 [==============================] - 2s 5ms/step - loss: 3.6899 - mean_squared_error: 3.6899 - root_mean_squared_error: 1.9209 - val_loss: 4.6930 - val_mean_squared_error: 4.6930 - val_root_mean_squared_error: 2.1663\n",
      "Epoch 3/40\n",
      "428/428 [==============================] - 2s 5ms/step - loss: 3.6762 - mean_squared_error: 3.6762 - root_mean_squared_error: 1.9173 - val_loss: 4.6812 - val_mean_squared_error: 4.6812 - val_root_mean_squared_error: 2.1636\n",
      "Epoch 4/40\n",
      "428/428 [==============================] - 2s 5ms/step - loss: 3.6651 - mean_squared_error: 3.6651 - root_mean_squared_error: 1.9145 - val_loss: 4.4808 - val_mean_squared_error: 4.4808 - val_root_mean_squared_error: 2.1168\n",
      "Epoch 5/40\n",
      "428/428 [==============================] - 2s 5ms/step - loss: 3.6671 - mean_squared_error: 3.6671 - root_mean_squared_error: 1.9150 - val_loss: 4.4981 - val_mean_squared_error: 4.4981 - val_root_mean_squared_error: 2.1209\n",
      "Epoch 6/40\n",
      "428/428 [==============================] - 2s 5ms/step - loss: 3.6394 - mean_squared_error: 3.6394 - root_mean_squared_error: 1.9077 - val_loss: 4.6213 - val_mean_squared_error: 4.6213 - val_root_mean_squared_error: 2.1497\n",
      "Epoch 7/40\n",
      "428/428 [==============================] - 2s 5ms/step - loss: 3.7310 - mean_squared_error: 3.7310 - root_mean_squared_error: 1.9316 - val_loss: 5.2440 - val_mean_squared_error: 5.2440 - val_root_mean_squared_error: 2.2900\n",
      "Epoch 8/40\n",
      "428/428 [==============================] - 2s 5ms/step - loss: 3.6507 - mean_squared_error: 3.6507 - root_mean_squared_error: 1.9107 - val_loss: 4.5339 - val_mean_squared_error: 4.5339 - val_root_mean_squared_error: 2.1293\n",
      "Epoch 9/40\n",
      "428/428 [==============================] - 2s 5ms/step - loss: 3.6628 - mean_squared_error: 3.6628 - root_mean_squared_error: 1.9138 - val_loss: 4.6099 - val_mean_squared_error: 4.6099 - val_root_mean_squared_error: 2.1471\n",
      "Epoch 10/40\n",
      "428/428 [==============================] - 2s 5ms/step - loss: 3.6301 - mean_squared_error: 3.6301 - root_mean_squared_error: 1.9053 - val_loss: 4.4484 - val_mean_squared_error: 4.4484 - val_root_mean_squared_error: 2.1091\n",
      "Epoch 11/40\n",
      "428/428 [==============================] - 2s 5ms/step - loss: 3.6311 - mean_squared_error: 3.6311 - root_mean_squared_error: 1.9055 - val_loss: 4.4262 - val_mean_squared_error: 4.4262 - val_root_mean_squared_error: 2.1039\n",
      "Epoch 12/40\n",
      "428/428 [==============================] - 2s 5ms/step - loss: 3.6384 - mean_squared_error: 3.6384 - root_mean_squared_error: 1.9075 - val_loss: 4.4516 - val_mean_squared_error: 4.4516 - val_root_mean_squared_error: 2.1099\n",
      "Epoch 13/40\n",
      "428/428 [==============================] - 2s 5ms/step - loss: 3.6631 - mean_squared_error: 3.6631 - root_mean_squared_error: 1.9139 - val_loss: 4.5716 - val_mean_squared_error: 4.5716 - val_root_mean_squared_error: 2.1381\n",
      "Epoch 14/40\n",
      "428/428 [==============================] - 2s 5ms/step - loss: 3.6252 - mean_squared_error: 3.6252 - root_mean_squared_error: 1.9040 - val_loss: 4.4420 - val_mean_squared_error: 4.4420 - val_root_mean_squared_error: 2.1076\n",
      "Epoch 15/40\n",
      "428/428 [==============================] - 2s 5ms/step - loss: 3.6387 - mean_squared_error: 3.6387 - root_mean_squared_error: 1.9075 - val_loss: 4.4492 - val_mean_squared_error: 4.4492 - val_root_mean_squared_error: 2.1093\n",
      "Epoch 16/40\n",
      "428/428 [==============================] - 2s 5ms/step - loss: 3.6345 - mean_squared_error: 3.6345 - root_mean_squared_error: 1.9064 - val_loss: 4.5071 - val_mean_squared_error: 4.5071 - val_root_mean_squared_error: 2.1230\n",
      "Epoch 17/40\n",
      "428/428 [==============================] - 2s 5ms/step - loss: 3.6211 - mean_squared_error: 3.6211 - root_mean_squared_error: 1.9029 - val_loss: 4.5758 - val_mean_squared_error: 4.5758 - val_root_mean_squared_error: 2.1391\n",
      "Epoch 18/40\n",
      "428/428 [==============================] - 2s 5ms/step - loss: 3.6345 - mean_squared_error: 3.6345 - root_mean_squared_error: 1.9064 - val_loss: 4.4711 - val_mean_squared_error: 4.4711 - val_root_mean_squared_error: 2.1145\n",
      "Epoch 19/40\n",
      "428/428 [==============================] - 2s 5ms/step - loss: 3.6289 - mean_squared_error: 3.6289 - root_mean_squared_error: 1.9050 - val_loss: 4.4064 - val_mean_squared_error: 4.4064 - val_root_mean_squared_error: 2.0991\n",
      "Epoch 20/40\n",
      "428/428 [==============================] - 2s 5ms/step - loss: 3.5743 - mean_squared_error: 3.5743 - root_mean_squared_error: 1.8906 - val_loss: 4.5925 - val_mean_squared_error: 4.5925 - val_root_mean_squared_error: 2.1430\n",
      "Epoch 21/40\n",
      "428/428 [==============================] - 2s 5ms/step - loss: 3.6339 - mean_squared_error: 3.6339 - root_mean_squared_error: 1.9063 - val_loss: 4.3841 - val_mean_squared_error: 4.3841 - val_root_mean_squared_error: 2.0938\n",
      "Epoch 22/40\n",
      "428/428 [==============================] - 2s 5ms/step - loss: 3.6001 - mean_squared_error: 3.6001 - root_mean_squared_error: 1.8974 - val_loss: 4.4767 - val_mean_squared_error: 4.4767 - val_root_mean_squared_error: 2.1158\n",
      "Epoch 23/40\n",
      "428/428 [==============================] - 2s 5ms/step - loss: 3.5919 - mean_squared_error: 3.5919 - root_mean_squared_error: 1.8952 - val_loss: 4.4364 - val_mean_squared_error: 4.4364 - val_root_mean_squared_error: 2.1063\n",
      "Epoch 24/40\n",
      "428/428 [==============================] - 2s 5ms/step - loss: 3.5985 - mean_squared_error: 3.5985 - root_mean_squared_error: 1.8970 - val_loss: 4.4209 - val_mean_squared_error: 4.4209 - val_root_mean_squared_error: 2.1026\n",
      "Epoch 25/40\n",
      "428/428 [==============================] - 2s 5ms/step - loss: 3.6159 - mean_squared_error: 3.6159 - root_mean_squared_error: 1.9016 - val_loss: 4.3936 - val_mean_squared_error: 4.3936 - val_root_mean_squared_error: 2.0961\n",
      "Epoch 26/40\n",
      "428/428 [==============================] - 2s 5ms/step - loss: 3.6050 - mean_squared_error: 3.6050 - root_mean_squared_error: 1.8987 - val_loss: 4.4466 - val_mean_squared_error: 4.4466 - val_root_mean_squared_error: 2.1087\n",
      "Epoch 27/40\n",
      "428/428 [==============================] - 2s 5ms/step - loss: 3.6012 - mean_squared_error: 3.6012 - root_mean_squared_error: 1.8977 - val_loss: 4.4241 - val_mean_squared_error: 4.4241 - val_root_mean_squared_error: 2.1034\n",
      "Epoch 28/40\n",
      "428/428 [==============================] - 2s 5ms/step - loss: 3.6011 - mean_squared_error: 3.6011 - root_mean_squared_error: 1.8977 - val_loss: 4.5288 - val_mean_squared_error: 4.5288 - val_root_mean_squared_error: 2.1281\n",
      "Epoch 29/40\n",
      "428/428 [==============================] - 2s 5ms/step - loss: 3.6003 - mean_squared_error: 3.6003 - root_mean_squared_error: 1.8975 - val_loss: 4.4403 - val_mean_squared_error: 4.4403 - val_root_mean_squared_error: 2.1072\n",
      "Epoch 30/40\n",
      "428/428 [==============================] - 2s 5ms/step - loss: 3.5967 - mean_squared_error: 3.5967 - root_mean_squared_error: 1.8965 - val_loss: 4.6439 - val_mean_squared_error: 4.6439 - val_root_mean_squared_error: 2.1550\n",
      "Epoch 31/40\n",
      "428/428 [==============================] - 2s 5ms/step - loss: 3.6043 - mean_squared_error: 3.6043 - root_mean_squared_error: 1.8985 - val_loss: 4.4077 - val_mean_squared_error: 4.4077 - val_root_mean_squared_error: 2.0994\n",
      "Epoch 32/40\n",
      "428/428 [==============================] - 2s 5ms/step - loss: 3.5880 - mean_squared_error: 3.5880 - root_mean_squared_error: 1.8942 - val_loss: 4.4030 - val_mean_squared_error: 4.4030 - val_root_mean_squared_error: 2.0983\n",
      "Epoch 33/40\n",
      "428/428 [==============================] - 2s 5ms/step - loss: 3.6231 - mean_squared_error: 3.6231 - root_mean_squared_error: 1.9034 - val_loss: 4.3966 - val_mean_squared_error: 4.3966 - val_root_mean_squared_error: 2.0968\n",
      "Epoch 34/40\n",
      "428/428 [==============================] - 2s 5ms/step - loss: 3.5813 - mean_squared_error: 3.5813 - root_mean_squared_error: 1.8924 - val_loss: 4.4430 - val_mean_squared_error: 4.4430 - val_root_mean_squared_error: 2.1078\n",
      "Epoch 35/40\n",
      "428/428 [==============================] - 2s 5ms/step - loss: 3.5853 - mean_squared_error: 3.5853 - root_mean_squared_error: 1.8935 - val_loss: 4.4202 - val_mean_squared_error: 4.4202 - val_root_mean_squared_error: 2.1024\n"
     ]
    },
    {
     "name": "stdout",
     "output_type": "stream",
     "text": [
      "Epoch 36/40\n",
      "428/428 [==============================] - 2s 5ms/step - loss: 3.6053 - mean_squared_error: 3.6053 - root_mean_squared_error: 1.8988 - val_loss: 4.4535 - val_mean_squared_error: 4.4535 - val_root_mean_squared_error: 2.1103\n",
      "Epoch 37/40\n",
      "428/428 [==============================] - 2s 5ms/step - loss: 3.5863 - mean_squared_error: 3.5863 - root_mean_squared_error: 1.8938 - val_loss: 4.4318 - val_mean_squared_error: 4.4318 - val_root_mean_squared_error: 2.1052\n",
      "Epoch 38/40\n",
      "428/428 [==============================] - 2s 5ms/step - loss: 3.5882 - mean_squared_error: 3.5882 - root_mean_squared_error: 1.8943 - val_loss: 4.4842 - val_mean_squared_error: 4.4842 - val_root_mean_squared_error: 2.1176\n",
      "Epoch 39/40\n",
      "428/428 [==============================] - 2s 5ms/step - loss: 3.5956 - mean_squared_error: 3.5956 - root_mean_squared_error: 1.8962 - val_loss: 4.3926 - val_mean_squared_error: 4.3926 - val_root_mean_squared_error: 2.0959\n",
      "Epoch 40/40\n",
      "428/428 [==============================] - 2s 5ms/step - loss: 3.5919 - mean_squared_error: 3.5919 - root_mean_squared_error: 1.8952 - val_loss: 4.4979 - val_mean_squared_error: 4.4979 - val_root_mean_squared_error: 2.1208\n"
     ]
    },
    {
     "data": {
      "text/plain": [
       "<tensorflow.python.keras.callbacks.History at 0x23b97290610>"
      ]
     },
     "execution_count": 11,
     "metadata": {},
     "output_type": "execute_result"
    }
   ],
   "source": [
    "#Train the model------------------------------------------------------------------------------------\n",
    "model.fit(img, lb,batch_size = bsize,validation_split=0.10, epochs=epch)"
   ]
  },
  {
   "cell_type": "code",
   "execution_count": 12,
   "metadata": {},
   "outputs": [
    {
     "name": "stdout",
     "output_type": "stream",
     "text": [
      "75/75 [==============================] - 0s 2ms/step - loss: 3.8767 - mean_squared_error: 3.8767 - root_mean_squared_error: 1.9689\n"
     ]
    },
    {
     "data": {
      "text/plain": [
       "[3.876734495162964, 3.876734495162964, 1.9689425230026245]"
      ]
     },
     "execution_count": 12,
     "metadata": {},
     "output_type": "execute_result"
    }
   ],
   "source": [
    "#Evaluate the model---------------------------------------------------------------------------------\n",
    "model.evaluate(test_img, test_lb)"
   ]
  },
  {
   "cell_type": "code",
   "execution_count": 13,
   "metadata": {},
   "outputs": [],
   "source": [
    "predictions=model.predict(test_img)"
   ]
  },
  {
   "cell_type": "code",
   "execution_count": 14,
   "metadata": {},
   "outputs": [
    {
     "data": {
      "text/plain": [
       "(2380, 400)"
      ]
     },
     "execution_count": 14,
     "metadata": {},
     "output_type": "execute_result"
    }
   ],
   "source": [
    "predictions.shape"
   ]
  },
  {
   "cell_type": "code",
   "execution_count": 15,
   "metadata": {},
   "outputs": [
    {
     "data": {
      "text/plain": [
       "(2380, 400)"
      ]
     },
     "execution_count": 15,
     "metadata": {},
     "output_type": "execute_result"
    }
   ],
   "source": [
    "predictions.shape"
   ]
  },
  {
   "cell_type": "code",
   "execution_count": 56,
   "metadata": {},
   "outputs": [],
   "source": [
    "#Plot a sample prediction generated by using testset\n",
    "a=np.round(predictions[8]).reshape(20,20)"
   ]
  },
  {
   "cell_type": "code",
   "execution_count": 62,
   "metadata": {},
   "outputs": [
    {
     "data": {
      "image/png": "[encoded data removed]",
      "text/plain": [
       "<Figure size 432x288 with 2 Axes>"
      ]
     },
     "metadata": {
      "needs_background": "light"
     },
     "output_type": "display_data"
    }
   ],
   "source": [
    "plt.imshow(a)\n",
    "plt.colorbar()\n",
    "plt.show()"
   ]
  },
  {
   "cell_type": "code",
   "execution_count": 58,
   "metadata": {},
   "outputs": [],
   "source": [
    "#Plot the corresponding label  of the testset\n",
    "b=test_lb[8].reshape(20,20)"
   ]
  },
  {
   "cell_type": "code",
   "execution_count": 59,
   "metadata": {},
   "outputs": [
    {
     "data": {
      "image/png": "[encoded data removed]",
      "text/plain": [
       "<Figure size 432x288 with 2 Axes>"
      ]
     },
     "metadata": {
      "needs_background": "light"
     },
     "output_type": "display_data"
    }
   ],
   "source": [
    "plt.imshow(b)\n",
    "plt.colorbar()\n",
    "plt.show()"
   ]
  },
  {
   "cell_type": "code",
   "execution_count": null,
   "metadata": {},
   "outputs": [],
   "source": []
  },
  {
   "cell_type": "code",
   "execution_count": null,
   "metadata": {},
   "outputs": [],
   "source": []
  }
 ],
 "metadata": {
  "kernelspec": {
   "display_name": "Python 3",
   "language": "python",
   "name": "python3"
  },
  "language_info": {
   "codemirror_mode": {
    "name": "ipython",
    "version": 3
   },
   "file_extension": ".py",
   "mimetype": "text/x-python",
   "name": "python",
   "nbconvert_exporter": "python",
   "pygments_lexer": "ipython3",
   "version": "3.8.4"
  }
 },
 "nbformat": 4,
 "nbformat_minor": 4
}
