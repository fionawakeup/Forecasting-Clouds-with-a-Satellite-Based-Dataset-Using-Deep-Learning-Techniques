{
 "cells": [
  {
   "cell_type": "code",
   "execution_count": 1,
   "metadata": {},
   "outputs": [],
   "source": [
    "import tensorflow as tf\n",
    "physical_devices = tf.config.list_physical_devices('GPU') \n",
    "tf.config.experimental.set_memory_growth(physical_devices[0], True)\n",
    "tf.config.list_physical_devices(device_type=None)\n",
    "\n",
    "\n",
    "import tensorflow.keras\n",
    "from tensorflow.keras.datasets import fashion_mnist\n",
    "from tensorflow.keras import models\n",
    "from tensorflow.keras import layers\n",
    "import matplotlib.pyplot as plt\n",
    "import numpy as np\n",
    "import h5py\n",
    "\n",
    "from keras import callbacks \n",
    "from keras.constraints import maxnorm\n",
    "from keras.models import Sequential\n",
    "from keras.layers import Dense\n",
    "\n",
    "from keras.layers.convolutional import Conv2D\n",
    "from tensorflow.keras.layers import Conv2D, MaxPooling2D,Dropout,Flatten\n",
    "import keras"
   ]
  },
  {
   "cell_type": "code",
   "execution_count": 2,
   "metadata": {},
   "outputs": [
    {
     "data": {
      "text/plain": [
       "(2378, 768, 768)"
      ]
     },
     "execution_count": 2,
     "metadata": {},
     "output_type": "execute_result"
    }
   ],
   "source": [
    "img=np.load('train_image.npy')\n",
    "img.shape"
   ]
  },
  {
   "cell_type": "code",
   "execution_count": 3,
   "metadata": {},
   "outputs": [],
   "source": [
    "#Data preprocessing-----------------------------------------------------------------------------------\n",
    "#DNN 4 slices, each slice size:64*64\n",
    "#use 64*64 image to predict 40*40 image\n",
    "\n",
    "#Create trainset\n",
    "DNN_train=np.zeros((2375*4,64,64,3))\n",
    "\n",
    "#1st slice\n",
    "DNN_train[:2375,:,:,0]=img[:-3][:,:64,:64]\n",
    "DNN_train[:2375,:,:,1]=img[1:-2][:,:64,:64]\n",
    "DNN_train[:2375,:,:,2]=img[2:-1][:,:64,:64]\n",
    "\n",
    "#2nd slice\n",
    "DNN_train[2375:2375*2,:,:,0]=img[:-3][:,64:128,64:128]\n",
    "DNN_train[2375:2375*2,:,:,1]=img[1:-2][:,64:128,64:128]\n",
    "DNN_train[2375:2375*2,:,:,2]=img[2:-1][:,64:128,64:128]\n",
    "\n",
    "#3rd slice \n",
    "DNN_train[2375*2:2375*3,:,:,0]=img[:-3][:,128:192,128:192]\n",
    "DNN_train[2375*2:2375*3,:,:,1]=img[1:-2][:,128:192,128:192]\n",
    "DNN_train[2375*2:2375*3,:,:,2]=img[2:-1][:,128:192,128:192]\n",
    "\n",
    "#4th slice\n",
    "DNN_train[2375*3:2375*4,:,:,0]=img[:-3][:,192:256,192:256]\n",
    "DNN_train[2375*3:2375*4,:,:,1]=img[1:-2][:,192:256,192:256]\n",
    "DNN_train[2375*3:2375*4,:,:,2]=img[2:-1][:,192:256,192:256]\n",
    "\n",
    "\n",
    "label=np.zeros((2375*4,40*40))\n",
    "label[:2375]=img[3:][:,12:52,12:52].reshape(2375,40*40)\n",
    "label[2375:2375*2]=img[3:][:,76:116,76:116].reshape(2375,40*40)\n",
    "label[2375*2:2375*3]=img[3:][:,140:180,140:180].reshape(2375,40*40)\n",
    "label[2375*3:2375*4]=img[3:][:,204:244,204:244].reshape(2375,40*40)\n"
   ]
  },
  {
   "cell_type": "code",
   "execution_count": 4,
   "metadata": {},
   "outputs": [
    {
     "data": {
      "text/plain": [
       "(9500, 1600)"
      ]
     },
     "execution_count": 4,
     "metadata": {},
     "output_type": "execute_result"
    }
   ],
   "source": [
    "label.shape"
   ]
  },
  {
   "cell_type": "code",
   "execution_count": 5,
   "metadata": {},
   "outputs": [
    {
     "data": {
      "text/plain": [
       "(9500, 64, 64, 3)"
      ]
     },
     "execution_count": 5,
     "metadata": {},
     "output_type": "execute_result"
    }
   ],
   "source": [
    "DNN_train.shape"
   ]
  },
  {
   "cell_type": "code",
   "execution_count": 6,
   "metadata": {},
   "outputs": [],
   "source": [
    "np.save('DNNtrain64.npy',DNN_train)\n",
    "np.save('DNNtrain_label64.npy',label)"
   ]
  },
  {
   "cell_type": "code",
   "execution_count": 7,
   "metadata": {},
   "outputs": [
    {
     "data": {
      "text/plain": [
       "(598, 768, 768)"
      ]
     },
     "execution_count": 7,
     "metadata": {},
     "output_type": "execute_result"
    }
   ],
   "source": [
    "img1=np.load('test_image.npy')\n",
    "img1.shape"
   ]
  },
  {
   "cell_type": "code",
   "execution_count": 8,
   "metadata": {},
   "outputs": [],
   "source": [
    "#Create testset\n",
    "DNN_test=np.zeros((595*4,64,64,3))\n",
    "\n",
    "DNN_test[:595,:,:,0]=img1[:-3][:,:64,:64]\n",
    "DNN_test[:595,:,:,1]=img1[1:-2][:,:64,:64]\n",
    "DNN_test[:595,:,:,2]=img1[2:-1][:,:64,:64]\n",
    "\n",
    "DNN_test[595:595*2,:,:,0]=img1[:-3][:,64:128,64:128]\n",
    "DNN_test[595:595*2,:,:,1]=img1[1:-2][:,64:128,64:128]\n",
    "DNN_test[595:595*2,:,:,2]=img1[2:-1][:,64:128,64:128]\n",
    "\n",
    "DNN_test[595*2:595*3,:,:,0]=img1[:-3][:,128:192,128:192]\n",
    "DNN_test[595*2:595*3,:,:,1]=img1[1:-2][:,128:192,128:192]\n",
    "DNN_test[595*2:595*3,:,:,2]=img1[2:-1][:,128:192,128:192]\n",
    "\n",
    "DNN_test[595*3:595*4,:,:,0]=img1[:-3][:,192:256,192:256]\n",
    "DNN_test[595*3:595*4,:,:,1]=img1[1:-2][:,192:256,192:256]\n",
    "DNN_test[595*3:595*4,:,:,2]=img1[2:-1][:,192:256,192:256]\n",
    "\n",
    "label=np.zeros((595*4,40*40))\n",
    "label[:595]=img1[3:][:,12:52,12:52].reshape(595,40*40)\n",
    "label[595:595*2]=img1[3:][:,76:116,76:116].reshape(595,40*40)\n",
    "label[595*2:595*3]=img1[3:][:,140:180,140:180].reshape(595,40*40)\n",
    "label[595*3:595*4]=img1[3:][:,204:244,204:244].reshape(595,40*40)"
   ]
  },
  {
   "cell_type": "code",
   "execution_count": 9,
   "metadata": {},
   "outputs": [
    {
     "data": {
      "text/plain": [
       "(2380, 1600)"
      ]
     },
     "execution_count": 9,
     "metadata": {},
     "output_type": "execute_result"
    }
   ],
   "source": [
    "label.shape"
   ]
  },
  {
   "cell_type": "code",
   "execution_count": 10,
   "metadata": {},
   "outputs": [
    {
     "data": {
      "text/plain": [
       "(2380, 64, 64, 3)"
      ]
     },
     "execution_count": 10,
     "metadata": {},
     "output_type": "execute_result"
    }
   ],
   "source": [
    "DNN_test.shape"
   ]
  },
  {
   "cell_type": "code",
   "execution_count": 11,
   "metadata": {},
   "outputs": [],
   "source": [
    "np.save('DNNtest64.npy',DNN_test)\n",
    "np.save('DNNtest_label64.npy',label)"
   ]
  },
  {
   "cell_type": "code",
   "execution_count": null,
   "metadata": {},
   "outputs": [],
   "source": []
  },
  {
   "cell_type": "code",
   "execution_count": 2,
   "metadata": {},
   "outputs": [
    {
     "data": {
      "text/plain": [
       "(9500, 64, 64, 3)"
      ]
     },
     "execution_count": 2,
     "metadata": {},
     "output_type": "execute_result"
    }
   ],
   "source": [
    "#Data loading--------------------------------------------------------------------------------------\n",
    "img=np.load('DNNtrain64.npy')\n",
    "lb=np.load('DNNtrain_label64.npy')\n",
    "img.shape #shape of trainset image"
   ]
  },
  {
   "cell_type": "code",
   "execution_count": 3,
   "metadata": {},
   "outputs": [
    {
     "data": {
      "text/plain": [
       "(9500, 1600)"
      ]
     },
     "execution_count": 3,
     "metadata": {},
     "output_type": "execute_result"
    }
   ],
   "source": [
    "lb.shape #shape of trainset label"
   ]
  },
  {
   "cell_type": "code",
   "execution_count": 4,
   "metadata": {},
   "outputs": [
    {
     "data": {
      "text/plain": [
       "(2380, 64, 64, 3)"
      ]
     },
     "execution_count": 4,
     "metadata": {},
     "output_type": "execute_result"
    }
   ],
   "source": [
    "test_img=np.load('DNNtest64.npy')\n",
    "test_lb=np.load('DNNtest_label64.npy')\n",
    "test_img.shape #shape of testset image"
   ]
  },
  {
   "cell_type": "code",
   "execution_count": 5,
   "metadata": {},
   "outputs": [
    {
     "data": {
      "text/plain": [
       "(2380, 1600)"
      ]
     },
     "execution_count": 5,
     "metadata": {},
     "output_type": "execute_result"
    }
   ],
   "source": [
    "test_lb.shape #shape of testset label"
   ]
  },
  {
   "cell_type": "code",
   "execution_count": 6,
   "metadata": {},
   "outputs": [
    {
     "name": "stdout",
     "output_type": "stream",
     "text": [
      "Model: \"sequential\"\n",
      "_________________________________________________________________\n",
      "Layer (type)                 Output Shape              Param #   \n",
      "=================================================================\n",
      "flatten (Flatten)            (None, 12288)             0         \n",
      "_________________________________________________________________\n",
      "dense (Dense)                (None, 1024)              12583936  \n",
      "_________________________________________________________________\n",
      "dense_1 (Dense)              (None, 4000)              4100000   \n",
      "_________________________________________________________________\n",
      "dropout (Dropout)            (None, 4000)              0         \n",
      "_________________________________________________________________\n",
      "dense_2 (Dense)              (None, 1024)              4097024   \n",
      "_________________________________________________________________\n",
      "dense_3 (Dense)              (None, 1600)              1640000   \n",
      "=================================================================\n",
      "Total params: 22,420,960\n",
      "Trainable params: 22,420,960\n",
      "Non-trainable params: 0\n",
      "_________________________________________________________________\n"
     ]
    }
   ],
   "source": [
    "#create DNN model--------------------------------------------------------------------------------------------\n",
    "with tf.device(\"cpu:0\"):\n",
    "    def create_model():\n",
    "\n",
    "        model = Sequential()\n",
    "        model.add(keras.Input(shape=(64,64,3)))\n",
    "        model.add(Flatten())\n",
    "        model.add(Dense(1024,activation='relu'))\n",
    "        model.add(Dense(4000,activation='relu'))\n",
    "        model.add(Dropout(0.3))\n",
    "        model.add(Dense(1024,activation='relu'))\n",
    "        model.add(Dense(40*40))\n",
    "        model.summary()\n",
    "        \n",
    "        eval_type1 = 'mean_squared_error'\n",
    "        eval_type2=tf.keras.metrics.RootMeanSquaredError()\n",
    "\n",
    "        model.compile(loss='mean_squared_error',optimizer='adam',metrics=[eval_type1,eval_type2])\n",
    "        \n",
    "        return model\n",
    "\n",
    "model=create_model()"
   ]
  },
  {
   "cell_type": "code",
   "execution_count": 7,
   "metadata": {},
   "outputs": [],
   "source": [
    "#define batch size and number of epochs \n",
    "bsize=20\n",
    "epch=40"
   ]
  },
  {
   "cell_type": "code",
   "execution_count": 9,
   "metadata": {},
   "outputs": [
    {
     "name": "stdout",
     "output_type": "stream",
     "text": [
      "Epoch 1/40\n",
      "428/428 [==============================] - 5s 9ms/step - loss: 30.2499 - mean_squared_error: 30.2499 - root_mean_squared_error: 4.7878 - val_loss: 6.4031 - val_mean_squared_error: 6.4031 - val_root_mean_squared_error: 2.5304\n",
      "Epoch 2/40\n",
      "428/428 [==============================] - 3s 7ms/step - loss: 5.4556 - mean_squared_error: 5.4556 - root_mean_squared_error: 2.3353 - val_loss: 5.8420 - val_mean_squared_error: 5.8420 - val_root_mean_squared_error: 2.4170\n",
      "Epoch 3/40\n",
      "428/428 [==============================] - 3s 6ms/step - loss: 4.9121 - mean_squared_error: 4.9121 - root_mean_squared_error: 2.2163 - val_loss: 5.7346 - val_mean_squared_error: 5.7346 - val_root_mean_squared_error: 2.3947\n",
      "Epoch 4/40\n",
      "428/428 [==============================] - 3s 7ms/step - loss: 4.7531 - mean_squared_error: 4.7531 - root_mean_squared_error: 2.1801 - val_loss: 5.7731 - val_mean_squared_error: 5.7731 - val_root_mean_squared_error: 2.4027\n",
      "Epoch 5/40\n",
      "428/428 [==============================] - 3s 7ms/step - loss: 4.7403 - mean_squared_error: 4.7403 - root_mean_squared_error: 2.1771 - val_loss: 5.6224 - val_mean_squared_error: 5.6224 - val_root_mean_squared_error: 2.3712\n",
      "Epoch 6/40\n",
      "428/428 [==============================] - 3s 7ms/step - loss: 4.8990 - mean_squared_error: 4.8990 - root_mean_squared_error: 2.2133 - val_loss: 6.0336 - val_mean_squared_error: 6.0336 - val_root_mean_squared_error: 2.4563\n",
      "Epoch 7/40\n",
      "428/428 [==============================] - 3s 7ms/step - loss: 4.6757 - mean_squared_error: 4.6757 - root_mean_squared_error: 2.1623 - val_loss: 5.5982 - val_mean_squared_error: 5.5982 - val_root_mean_squared_error: 2.3660\n",
      "Epoch 8/40\n",
      "428/428 [==============================] - 3s 7ms/step - loss: 4.6863 - mean_squared_error: 4.6863 - root_mean_squared_error: 2.1648 - val_loss: 5.5510 - val_mean_squared_error: 5.5510 - val_root_mean_squared_error: 2.3560\n",
      "Epoch 9/40\n",
      "428/428 [==============================] - 3s 7ms/step - loss: 4.6100 - mean_squared_error: 4.6100 - root_mean_squared_error: 2.1471 - val_loss: 5.5722 - val_mean_squared_error: 5.5722 - val_root_mean_squared_error: 2.3606\n",
      "Epoch 10/40\n",
      "428/428 [==============================] - 3s 6ms/step - loss: 4.6008 - mean_squared_error: 4.6008 - root_mean_squared_error: 2.1449 - val_loss: 5.5917 - val_mean_squared_error: 5.5917 - val_root_mean_squared_error: 2.3647\n",
      "Epoch 11/40\n",
      "428/428 [==============================] - 3s 7ms/step - loss: 4.6886 - mean_squared_error: 4.6886 - root_mean_squared_error: 2.1652 - val_loss: 5.7832 - val_mean_squared_error: 5.7832 - val_root_mean_squared_error: 2.4048\n",
      "Epoch 12/40\n",
      "428/428 [==============================] - 3s 7ms/step - loss: 4.6476 - mean_squared_error: 4.6476 - root_mean_squared_error: 2.1558 - val_loss: 5.6346 - val_mean_squared_error: 5.6346 - val_root_mean_squared_error: 2.3737\n",
      "Epoch 13/40\n",
      "428/428 [==============================] - 3s 7ms/step - loss: 4.6919 - mean_squared_error: 4.6919 - root_mean_squared_error: 2.1661 - val_loss: 5.6559 - val_mean_squared_error: 5.6559 - val_root_mean_squared_error: 2.3782\n",
      "Epoch 14/40\n",
      "428/428 [==============================] - 3s 6ms/step - loss: 4.5482 - mean_squared_error: 4.5482 - root_mean_squared_error: 2.1326 - val_loss: 5.5432 - val_mean_squared_error: 5.5432 - val_root_mean_squared_error: 2.3544\n",
      "Epoch 15/40\n",
      "428/428 [==============================] - 3s 7ms/step - loss: 4.6302 - mean_squared_error: 4.6302 - root_mean_squared_error: 2.1517 - val_loss: 5.4552 - val_mean_squared_error: 5.4552 - val_root_mean_squared_error: 2.3356\n",
      "Epoch 16/40\n",
      "428/428 [==============================] - 3s 6ms/step - loss: 4.6253 - mean_squared_error: 4.6253 - root_mean_squared_error: 2.1506 - val_loss: 5.7436 - val_mean_squared_error: 5.7436 - val_root_mean_squared_error: 2.3966\n",
      "Epoch 17/40\n",
      "428/428 [==============================] - 3s 6ms/step - loss: 4.6305 - mean_squared_error: 4.6305 - root_mean_squared_error: 2.1518 - val_loss: 5.8688 - val_mean_squared_error: 5.8688 - val_root_mean_squared_error: 2.4226\n",
      "Epoch 18/40\n",
      "428/428 [==============================] - 3s 6ms/step - loss: 4.6572 - mean_squared_error: 4.6572 - root_mean_squared_error: 2.1579 - val_loss: 5.7408 - val_mean_squared_error: 5.7408 - val_root_mean_squared_error: 2.3960\n",
      "Epoch 19/40\n",
      "428/428 [==============================] - 3s 7ms/step - loss: 4.5630 - mean_squared_error: 4.5630 - root_mean_squared_error: 2.1360 - val_loss: 5.4904 - val_mean_squared_error: 5.4904 - val_root_mean_squared_error: 2.3432\n",
      "Epoch 20/40\n",
      "428/428 [==============================] - 3s 7ms/step - loss: 4.6351 - mean_squared_error: 4.6351 - root_mean_squared_error: 2.1528 - val_loss: 5.4582 - val_mean_squared_error: 5.4582 - val_root_mean_squared_error: 2.3363\n",
      "Epoch 21/40\n",
      "428/428 [==============================] - 3s 6ms/step - loss: 4.5868 - mean_squared_error: 4.5868 - root_mean_squared_error: 2.1416 - val_loss: 5.7172 - val_mean_squared_error: 5.7172 - val_root_mean_squared_error: 2.3911\n",
      "Epoch 22/40\n",
      "428/428 [==============================] - 3s 6ms/step - loss: 4.5510 - mean_squared_error: 4.5510 - root_mean_squared_error: 2.1333 - val_loss: 5.4659 - val_mean_squared_error: 5.4659 - val_root_mean_squared_error: 2.3379\n",
      "Epoch 23/40\n",
      "428/428 [==============================] - 3s 6ms/step - loss: 4.5411 - mean_squared_error: 4.5411 - root_mean_squared_error: 2.1309 - val_loss: 5.5911 - val_mean_squared_error: 5.5911 - val_root_mean_squared_error: 2.3646\n",
      "Epoch 24/40\n",
      "428/428 [==============================] - 3s 7ms/step - loss: 4.5840 - mean_squared_error: 4.5840 - root_mean_squared_error: 2.1410 - val_loss: 5.6698 - val_mean_squared_error: 5.6698 - val_root_mean_squared_error: 2.3811\n",
      "Epoch 25/40\n",
      "428/428 [==============================] - 3s 6ms/step - loss: 4.6009 - mean_squared_error: 4.6009 - root_mean_squared_error: 2.1449 - val_loss: 5.4722 - val_mean_squared_error: 5.4722 - val_root_mean_squared_error: 2.3393\n",
      "Epoch 26/40\n",
      "428/428 [==============================] - 3s 7ms/step - loss: 4.6007 - mean_squared_error: 4.6007 - root_mean_squared_error: 2.1448 - val_loss: 5.4562 - val_mean_squared_error: 5.4562 - val_root_mean_squared_error: 2.3358\n",
      "Epoch 27/40\n",
      "428/428 [==============================] - 3s 7ms/step - loss: 4.5251 - mean_squared_error: 4.5251 - root_mean_squared_error: 2.1272 - val_loss: 5.5456 - val_mean_squared_error: 5.5456 - val_root_mean_squared_error: 2.3549\n",
      "Epoch 28/40\n",
      "428/428 [==============================] - 3s 7ms/step - loss: 4.5015 - mean_squared_error: 4.5015 - root_mean_squared_error: 2.1216 - val_loss: 5.4833 - val_mean_squared_error: 5.4833 - val_root_mean_squared_error: 2.3416\n",
      "Epoch 29/40\n",
      "428/428 [==============================] - 3s 6ms/step - loss: 4.5138 - mean_squared_error: 4.5138 - root_mean_squared_error: 2.1245 - val_loss: 5.5062 - val_mean_squared_error: 5.5062 - val_root_mean_squared_error: 2.3465\n",
      "Epoch 30/40\n",
      "428/428 [==============================] - 3s 7ms/step - loss: 4.6295 - mean_squared_error: 4.6295 - root_mean_squared_error: 2.1516 - val_loss: 5.4670 - val_mean_squared_error: 5.4670 - val_root_mean_squared_error: 2.3382\n",
      "Epoch 31/40\n",
      "428/428 [==============================] - 3s 7ms/step - loss: 4.5594 - mean_squared_error: 4.5594 - root_mean_squared_error: 2.1352 - val_loss: 5.4727 - val_mean_squared_error: 5.4727 - val_root_mean_squared_error: 2.3394\n",
      "Epoch 32/40\n",
      "428/428 [==============================] - 3s 7ms/step - loss: 4.5396 - mean_squared_error: 4.5396 - root_mean_squared_error: 2.1306 - val_loss: 5.4729 - val_mean_squared_error: 5.4729 - val_root_mean_squared_error: 2.3394\n",
      "Epoch 33/40\n",
      "428/428 [==============================] - 3s 6ms/step - loss: 4.5392 - mean_squared_error: 4.5392 - root_mean_squared_error: 2.1305 - val_loss: 5.5514 - val_mean_squared_error: 5.5514 - val_root_mean_squared_error: 2.3561\n",
      "Epoch 34/40\n",
      "428/428 [==============================] - 3s 6ms/step - loss: 4.5200 - mean_squared_error: 4.5200 - root_mean_squared_error: 2.1258 - val_loss: 5.4707 - val_mean_squared_error: 5.4707 - val_root_mean_squared_error: 2.3390\n",
      "Epoch 35/40\n",
      "428/428 [==============================] - 3s 6ms/step - loss: 4.5132 - mean_squared_error: 4.5132 - root_mean_squared_error: 2.1244 - val_loss: 5.5650 - val_mean_squared_error: 5.5650 - val_root_mean_squared_error: 2.3590\n"
     ]
    },
    {
     "name": "stdout",
     "output_type": "stream",
     "text": [
      "Epoch 36/40\n",
      "428/428 [==============================] - 3s 7ms/step - loss: 4.4359 - mean_squared_error: 4.4359 - root_mean_squared_error: 2.1061 - val_loss: 5.4552 - val_mean_squared_error: 5.4552 - val_root_mean_squared_error: 2.3356\n",
      "Epoch 37/40\n",
      "428/428 [==============================] - 3s 7ms/step - loss: 4.4836 - mean_squared_error: 4.4836 - root_mean_squared_error: 2.1174 - val_loss: 5.4927 - val_mean_squared_error: 5.4927 - val_root_mean_squared_error: 2.3437\n",
      "Epoch 38/40\n",
      "428/428 [==============================] - 3s 6ms/step - loss: 4.4421 - mean_squared_error: 4.4421 - root_mean_squared_error: 2.1076 - val_loss: 5.4816 - val_mean_squared_error: 5.4816 - val_root_mean_squared_error: 2.3413\n",
      "Epoch 39/40\n",
      "428/428 [==============================] - 3s 7ms/step - loss: 4.5324 - mean_squared_error: 4.5324 - root_mean_squared_error: 2.1289 - val_loss: 5.4599 - val_mean_squared_error: 5.4599 - val_root_mean_squared_error: 2.3366\n",
      "Epoch 40/40\n",
      "428/428 [==============================] - 3s 6ms/step - loss: 4.4591 - mean_squared_error: 4.4591 - root_mean_squared_error: 2.1116 - val_loss: 5.4509 - val_mean_squared_error: 5.4509 - val_root_mean_squared_error: 2.3347\n"
     ]
    },
    {
     "data": {
      "text/plain": [
       "<tensorflow.python.keras.callbacks.History at 0x23c580f6d60>"
      ]
     },
     "execution_count": 9,
     "metadata": {},
     "output_type": "execute_result"
    }
   ],
   "source": [
    "#Train the DNN model----------------------------------------------------------------------------------------\n",
    "model.fit(img, lb,batch_size = bsize,validation_split=0.1, epochs=epch)"
   ]
  },
  {
   "cell_type": "code",
   "execution_count": 10,
   "metadata": {},
   "outputs": [
    {
     "name": "stdout",
     "output_type": "stream",
     "text": [
      "75/75 [==============================] - 0s 3ms/step - loss: 4.8165 - mean_squared_error: 4.8165 - root_mean_squared_error: 2.1946\n"
     ]
    },
    {
     "data": {
      "text/plain": [
       "[4.816471576690674, 4.816471576690674, 2.194646120071411]"
      ]
     },
     "execution_count": 10,
     "metadata": {},
     "output_type": "execute_result"
    }
   ],
   "source": [
    "#Evaluate the testset\n",
    "model.evaluate(test_img, test_lb)"
   ]
  },
  {
   "cell_type": "code",
   "execution_count": 11,
   "metadata": {},
   "outputs": [],
   "source": [
    "predictions=model.predict(test_img)\n"
   ]
  },
  {
   "cell_type": "code",
   "execution_count": 12,
   "metadata": {},
   "outputs": [
    {
     "data": {
      "text/plain": [
       "(2380, 1600)"
      ]
     },
     "execution_count": 12,
     "metadata": {},
     "output_type": "execute_result"
    }
   ],
   "source": [
    "predictions.shape"
   ]
  },
  {
   "cell_type": "code",
   "execution_count": 13,
   "metadata": {},
   "outputs": [
    {
     "data": {
      "text/plain": [
       "(2380, 1600)"
      ]
     },
     "execution_count": 13,
     "metadata": {},
     "output_type": "execute_result"
    }
   ],
   "source": [
    "predictions.shape"
   ]
  },
  {
   "cell_type": "code",
   "execution_count": 43,
   "metadata": {},
   "outputs": [],
   "source": [
    "#Plot a sample of the prediction--------------------------------------------------------------\n",
    "a=np.round(predictions[100]).reshape(40,40)"
   ]
  },
  {
   "cell_type": "code",
   "execution_count": 44,
   "metadata": {},
   "outputs": [
    {
     "data": {
      "image/png": "[encoded data removed]",
      "text/plain": [
       "<Figure size 432x288 with 2 Axes>"
      ]
     },
     "metadata": {
      "needs_background": "light"
     },
     "output_type": "display_data"
    }
   ],
   "source": [
    "plt.imshow(a)\n",
    "plt.colorbar()\n",
    "plt.show()"
   ]
  },
  {
   "cell_type": "code",
   "execution_count": 45,
   "metadata": {},
   "outputs": [],
   "source": [
    "#Plot the corresponding ground truth--------------------------------------------------------------\n",
    "\n",
    "b=test_lb[100].reshape(40,40)"
   ]
  },
  {
   "cell_type": "code",
   "execution_count": 46,
   "metadata": {},
   "outputs": [
    {
     "data": {
      "image/png": "[encoded data removed]",
      "text/plain": [
       "<Figure size 432x288 with 2 Axes>"
      ]
     },
     "metadata": {
      "needs_background": "light"
     },
     "output_type": "display_data"
    }
   ],
   "source": [
    "plt.imshow(b)\n",
    "plt.colorbar()\n",
    "plt.show()"
   ]
  },
  {
   "cell_type": "code",
   "execution_count": null,
   "metadata": {},
   "outputs": [],
   "source": []
  }
 ],
 "metadata": {
  "kernelspec": {
   "display_name": "Python 3",
   "language": "python",
   "name": "python3"
  },
  "language_info": {
   "codemirror_mode": {
    "name": "ipython",
    "version": 3
   },
   "file_extension": ".py",
   "mimetype": "text/x-python",
   "name": "python",
   "nbconvert_exporter": "python",
   "pygments_lexer": "ipython3",
   "version": "3.8.4"
  }
 },
 "nbformat": 4,
 "nbformat_minor": 4
}
