{
 "cells": [
  {
   "cell_type": "code",
   "execution_count": 2,
   "metadata": {},
   "outputs": [],
   "source": [
    "import tensorflow as tf\n",
    "physical_devices = tf.config.list_physical_devices('GPU') \n",
    "tf.config.experimental.set_memory_growth(physical_devices[0], True)\n",
    "tf.config.list_physical_devices(device_type=None)\n",
    "\n",
    "import matplotlib.pyplot as plt\n",
    "import numpy as np\n",
    "import tensorflow.keras\n",
    "from tensorflow.keras import models\n",
    "from tensorflow.keras import layers\n",
    "from keras import callbacks \n",
    "from keras.models import Sequential\n",
    "from keras.layers.convolutional import Conv2D\n",
    "from tensorflow.keras.layers import Conv2D, MaxPooling2D,Dropout,Flatten,Dense"
   ]
  },
  {
   "cell_type": "markdown",
   "metadata": {},
   "source": [
    "# Load data"
   ]
  },
  {
   "cell_type": "code",
   "execution_count": 3,
   "metadata": {},
   "outputs": [
    {
     "name": "stdout",
     "output_type": "stream",
     "text": [
      "The shape of trainset image is  (23750, 32, 32, 3)\n",
      "The shape of trainset label is  (23750, 1024)\n"
     ]
    }
   ],
   "source": [
    "#I use the same dataset used for DNN model\n",
    "#loading data--------------------------------------------------------------------------------------\n",
    "img=np.load('DNNtrain32_new1.npy')\n",
    "lb=np.load('DNNtrain_label32_new1.npy')\n",
    "\n",
    "print('The shape of trainset image is ',img.shape)\n",
    "print('The shape of trainset label is ',lb.shape)\n"
   ]
  },
  {
   "cell_type": "code",
   "execution_count": 4,
   "metadata": {},
   "outputs": [
    {
     "name": "stdout",
     "output_type": "stream",
     "text": [
      "The shape of testset image is  (5950, 32, 32, 3)\n",
      "The shape of testset label is  (5950, 1024)\n"
     ]
    }
   ],
   "source": [
    "test_img=np.load('DNNtest32_new1.npy')\n",
    "test_lb=np.load('DNNtest_label32_new1.npy')\n",
    "\n",
    "print('The shape of testset image is ',test_img.shape)\n",
    "print('The shape of testset label is ',test_lb.shape)"
   ]
  },
  {
   "cell_type": "markdown",
   "metadata": {},
   "source": [
    "# CNN model with 32*32 images"
   ]
  },
  {
   "cell_type": "code",
   "execution_count": 5,
   "metadata": {},
   "outputs": [
    {
     "name": "stdout",
     "output_type": "stream",
     "text": [
      "Model: \"sequential\"\n",
      "_________________________________________________________________\n",
      "Layer (type)                 Output Shape              Param #   \n",
      "=================================================================\n",
      "conv2d (Conv2D)              (None, 32, 32, 16)        448       \n",
      "_________________________________________________________________\n",
      "max_pooling2d (MaxPooling2D) (None, 16, 16, 16)        0         \n",
      "_________________________________________________________________\n",
      "flatten (Flatten)            (None, 4096)              0         \n",
      "_________________________________________________________________\n",
      "dropout (Dropout)            (None, 4096)              0         \n",
      "_________________________________________________________________\n",
      "dense (Dense)                (None, 1024)              4195328   \n",
      "=================================================================\n",
      "Total params: 4,195,776\n",
      "Trainable params: 4,195,776\n",
      "Non-trainable params: 0\n",
      "_________________________________________________________________\n"
     ]
    }
   ],
   "source": [
    "#create CNN model------------------------------------------------------------------------------------------\n",
    "with tf.device(\"cpu:0\"):\n",
    "    model = Sequential()\n",
    "    model.add(Conv2D(16, kernel_size=(3, 3), padding='same', activation='relu', input_shape=(32,32,3)))\n",
    "    model.add(MaxPooling2D(pool_size=(2, 2)))\n",
    "    model.add(Flatten())\n",
    "    model.add(Dropout(0.5))\n",
    "    model.add(Dense(32*32))\n",
    "    model.summary()"
   ]
  },
  {
   "cell_type": "code",
   "execution_count": 6,
   "metadata": {},
   "outputs": [],
   "source": [
    "model.compile(loss='mean_squared_error',\n",
    "              optimizer='adam',\n",
    "              metrics=['MeanSquaredError'])"
   ]
  },
  {
   "cell_type": "code",
   "execution_count": 7,
   "metadata": {},
   "outputs": [
    {
     "name": "stdout",
     "output_type": "stream",
     "text": [
      "Epoch 1/2000\n",
      "2672/2672 [==============================] - 61s 14ms/step - loss: 7.0290 - mean_squared_error: 7.0290 - val_loss: 4.4260 - val_mean_squared_error: 4.4260\n",
      "Epoch 2/2000\n",
      "2672/2672 [==============================] - 36s 13ms/step - loss: 5.1268 - mean_squared_error: 5.1268 - val_loss: 4.3350 - val_mean_squared_error: 4.3350\n",
      "Epoch 3/2000\n",
      "2672/2672 [==============================] - 35s 13ms/step - loss: 4.8360 - mean_squared_error: 4.8360 - val_loss: 4.6006 - val_mean_squared_error: 4.6006\n",
      "Epoch 4/2000\n",
      "2672/2672 [==============================] - 35s 13ms/step - loss: 4.7054 - mean_squared_error: 4.7054 - val_loss: 4.2508 - val_mean_squared_error: 4.2508\n",
      "Epoch 5/2000\n",
      "2672/2672 [==============================] - 36s 13ms/step - loss: 4.6056 - mean_squared_error: 4.6056 - val_loss: 4.3006 - val_mean_squared_error: 4.3006\n",
      "Epoch 6/2000\n",
      "2672/2672 [==============================] - 36s 13ms/step - loss: 4.4975 - mean_squared_error: 4.4975 - val_loss: 4.2042 - val_mean_squared_error: 4.2042\n",
      "Epoch 7/2000\n",
      "2672/2672 [==============================] - 35s 13ms/step - loss: 4.4635 - mean_squared_error: 4.4635 - val_loss: 4.1728 - val_mean_squared_error: 4.1728\n",
      "Epoch 8/2000\n",
      "2672/2672 [==============================] - 35s 13ms/step - loss: 4.4161 - mean_squared_error: 4.4161 - val_loss: 5.0263 - val_mean_squared_error: 5.0263\n",
      "Epoch 9/2000\n",
      "2672/2672 [==============================] - 35s 13ms/step - loss: 4.3792 - mean_squared_error: 4.3792 - val_loss: 4.1940 - val_mean_squared_error: 4.1940\n",
      "Epoch 10/2000\n",
      "2672/2672 [==============================] - 35s 13ms/step - loss: 4.4423 - mean_squared_error: 4.4423 - val_loss: 4.3893 - val_mean_squared_error: 4.3893\n",
      "Epoch 11/2000\n",
      "2672/2672 [==============================] - 35s 13ms/step - loss: 4.4213 - mean_squared_error: 4.4213 - val_loss: 4.3607 - val_mean_squared_error: 4.3607\n",
      "Epoch 12/2000\n",
      "2672/2672 [==============================] - 35s 13ms/step - loss: 4.3763 - mean_squared_error: 4.3763 - val_loss: 4.2179 - val_mean_squared_error: 4.2179\n",
      "Epoch 13/2000\n",
      "2672/2672 [==============================] - 35s 13ms/step - loss: 4.3526 - mean_squared_error: 4.3526 - val_loss: 4.2935 - val_mean_squared_error: 4.2935\n",
      "Epoch 14/2000\n",
      "2672/2672 [==============================] - 35s 13ms/step - loss: 4.3561 - mean_squared_error: 4.3561 - val_loss: 4.2820 - val_mean_squared_error: 4.2820\n",
      "Epoch 15/2000\n",
      "2672/2672 [==============================] - 35s 13ms/step - loss: 4.3037 - mean_squared_error: 4.3037 - val_loss: 4.3262 - val_mean_squared_error: 4.3262\n",
      "Epoch 16/2000\n",
      "2672/2672 [==============================] - 35s 13ms/step - loss: 4.3427 - mean_squared_error: 4.3427 - val_loss: 4.3031 - val_mean_squared_error: 4.3031\n",
      "Epoch 17/2000\n",
      "2672/2672 [==============================] - 35s 13ms/step - loss: 4.2577 - mean_squared_error: 4.2577 - val_loss: 4.2581 - val_mean_squared_error: 4.2581\n",
      "Epoch 18/2000\n",
      "2672/2672 [==============================] - 36s 13ms/step - loss: 4.2817 - mean_squared_error: 4.2817 - val_loss: 4.3749 - val_mean_squared_error: 4.3749\n",
      "Epoch 19/2000\n",
      "2672/2672 [==============================] - 35s 13ms/step - loss: 4.2582 - mean_squared_error: 4.2582 - val_loss: 4.2703 - val_mean_squared_error: 4.2703\n",
      "Epoch 20/2000\n",
      "2672/2672 [==============================] - 35s 13ms/step - loss: 4.2448 - mean_squared_error: 4.2448 - val_loss: 4.2648 - val_mean_squared_error: 4.2648\n",
      "Epoch 21/2000\n",
      "2672/2672 [==============================] - 35s 13ms/step - loss: 4.2379 - mean_squared_error: 4.2379 - val_loss: 4.3358 - val_mean_squared_error: 4.3358\n",
      "Epoch 22/2000\n",
      "2672/2672 [==============================] - 35s 13ms/step - loss: 4.1856 - mean_squared_error: 4.1856 - val_loss: 4.2345 - val_mean_squared_error: 4.2345\n",
      "Epoch 23/2000\n",
      "2672/2672 [==============================] - 35s 13ms/step - loss: 4.1607 - mean_squared_error: 4.1607 - val_loss: 4.2540 - val_mean_squared_error: 4.2540\n",
      "Epoch 24/2000\n",
      "2672/2672 [==============================] - 35s 13ms/step - loss: 4.1540 - mean_squared_error: 4.1540 - val_loss: 4.2784 - val_mean_squared_error: 4.2784\n",
      "Epoch 25/2000\n",
      "2672/2672 [==============================] - 35s 13ms/step - loss: 4.1913 - mean_squared_error: 4.1913 - val_loss: 4.2495 - val_mean_squared_error: 4.2495\n",
      "Epoch 26/2000\n",
      "2672/2672 [==============================] - 36s 13ms/step - loss: 4.1956 - mean_squared_error: 4.1956 - val_loss: 4.1901 - val_mean_squared_error: 4.1901\n",
      "Epoch 27/2000\n",
      "2672/2672 [==============================] - 36s 13ms/step - loss: 4.2079 - mean_squared_error: 4.2079 - val_loss: 4.2389 - val_mean_squared_error: 4.2389\n",
      "Epoch 28/2000\n",
      "2672/2672 [==============================] - 35s 13ms/step - loss: 4.1318 - mean_squared_error: 4.1318 - val_loss: 4.4579 - val_mean_squared_error: 4.4579\n",
      "Epoch 29/2000\n",
      "2672/2672 [==============================] - 35s 13ms/step - loss: 4.1498 - mean_squared_error: 4.1498 - val_loss: 4.2577 - val_mean_squared_error: 4.2577\n",
      "Epoch 30/2000\n",
      "2672/2672 [==============================] - 36s 14ms/step - loss: 4.1298 - mean_squared_error: 4.1298 - val_loss: 4.1638 - val_mean_squared_error: 4.1638\n",
      "Epoch 31/2000\n",
      "2672/2672 [==============================] - 35s 13ms/step - loss: 4.1249 - mean_squared_error: 4.1249 - val_loss: 4.2934 - val_mean_squared_error: 4.2934\n",
      "Epoch 32/2000\n",
      "2672/2672 [==============================] - 36s 14ms/step - loss: 4.1149 - mean_squared_error: 4.1149 - val_loss: 4.5413 - val_mean_squared_error: 4.5413\n",
      "Epoch 33/2000\n",
      "2672/2672 [==============================] - 35s 13ms/step - loss: 4.1022 - mean_squared_error: 4.1022 - val_loss: 4.1972 - val_mean_squared_error: 4.1972\n",
      "Epoch 34/2000\n",
      "2672/2672 [==============================] - 35s 13ms/step - loss: 4.1215 - mean_squared_error: 4.1215 - val_loss: 4.1948 - val_mean_squared_error: 4.1948\n",
      "Epoch 35/2000\n",
      "2672/2672 [==============================] - 35s 13ms/step - loss: 4.1342 - mean_squared_error: 4.1342 - val_loss: 4.2807 - val_mean_squared_error: 4.2807\n",
      "Epoch 36/2000\n",
      "2672/2672 [==============================] - 35s 13ms/step - loss: 4.1365 - mean_squared_error: 4.1365 - val_loss: 4.2665 - val_mean_squared_error: 4.2665\n",
      "Epoch 37/2000\n",
      "2672/2672 [==============================] - 35s 13ms/step - loss: 4.1415 - mean_squared_error: 4.1415 - val_loss: 4.1775 - val_mean_squared_error: 4.1775\n",
      "Epoch 38/2000\n",
      "2672/2672 [==============================] - 35s 13ms/step - loss: 4.1247 - mean_squared_error: 4.1247 - val_loss: 4.2139 - val_mean_squared_error: 4.2139\n",
      "Epoch 39/2000\n",
      "2672/2672 [==============================] - 35s 13ms/step - loss: 4.1333 - mean_squared_error: 4.1333 - val_loss: 4.1786 - val_mean_squared_error: 4.1786\n",
      "Epoch 40/2000\n",
      "2672/2672 [==============================] - 35s 13ms/step - loss: 4.1237 - mean_squared_error: 4.1237 - val_loss: 4.3773 - val_mean_squared_error: 4.3773\n",
      "Epoch 41/2000\n",
      "2672/2672 [==============================] - 35s 13ms/step - loss: 4.0782 - mean_squared_error: 4.0782 - val_loss: 4.2110 - val_mean_squared_error: 4.2110\n",
      "Epoch 42/2000\n",
      "2672/2672 [==============================] - 35s 13ms/step - loss: 4.0965 - mean_squared_error: 4.0965 - val_loss: 4.3871 - val_mean_squared_error: 4.3871\n",
      "Epoch 43/2000\n",
      "2672/2672 [==============================] - 35s 13ms/step - loss: 4.0773 - mean_squared_error: 4.0773 - val_loss: 4.1423 - val_mean_squared_error: 4.1423\n",
      "Epoch 44/2000\n",
      "2672/2672 [==============================] - 36s 13ms/step - loss: 4.0774 - mean_squared_error: 4.0774 - val_loss: 4.1811 - val_mean_squared_error: 4.1811\n",
      "Epoch 45/2000\n",
      "2672/2672 [==============================] - 35s 13ms/step - loss: 4.0706 - mean_squared_error: 4.0706 - val_loss: 4.5508 - val_mean_squared_error: 4.5508\n",
      "Epoch 46/2000\n",
      "2672/2672 [==============================] - 35s 13ms/step - loss: 4.0790 - mean_squared_error: 4.0790 - val_loss: 4.2236 - val_mean_squared_error: 4.2236\n",
      "Epoch 47/2000\n",
      "2672/2672 [==============================] - 35s 13ms/step - loss: 4.0908 - mean_squared_error: 4.0908 - val_loss: 4.2038 - val_mean_squared_error: 4.2038\n",
      "Epoch 48/2000\n",
      "2672/2672 [==============================] - 35s 13ms/step - loss: 4.0458 - mean_squared_error: 4.0458 - val_loss: 4.1897 - val_mean_squared_error: 4.1897\n",
      "Epoch 49/2000\n",
      "2672/2672 [==============================] - 35s 13ms/step - loss: 4.0589 - mean_squared_error: 4.0589 - val_loss: 4.5087 - val_mean_squared_error: 4.5087\n",
      "Epoch 50/2000\n",
      "2672/2672 [==============================] - 35s 13ms/step - loss: 4.0861 - mean_squared_error: 4.0861 - val_loss: 4.2401 - val_mean_squared_error: 4.2401\n",
      "Epoch 51/2000\n",
      "2672/2672 [==============================] - 36s 13ms/step - loss: 4.1038 - mean_squared_error: 4.1038 - val_loss: 4.1951 - val_mean_squared_error: 4.1951\n",
      "Epoch 52/2000\n",
      "2672/2672 [==============================] - 35s 13ms/step - loss: 4.0586 - mean_squared_error: 4.0586 - val_loss: 4.1702 - val_mean_squared_error: 4.1702\n",
      "Epoch 53/2000\n",
      "2672/2672 [==============================] - 35s 13ms/step - loss: 4.0931 - mean_squared_error: 4.0931 - val_loss: 4.2272 - val_mean_squared_error: 4.2272\n",
      "Epoch 54/2000\n",
      "2672/2672 [==============================] - 34s 13ms/step - loss: 4.0671 - mean_squared_error: 4.0671 - val_loss: 4.2291 - val_mean_squared_error: 4.2291\n",
      "Epoch 55/2000\n",
      "2672/2672 [==============================] - 35s 13ms/step - loss: 4.0592 - mean_squared_error: 4.0592 - val_loss: 4.1380 - val_mean_squared_error: 4.1380\n",
      "Epoch 56/2000\n",
      "2672/2672 [==============================] - 35s 13ms/step - loss: 4.0392 - mean_squared_error: 4.0392 - val_loss: 4.3601 - val_mean_squared_error: 4.3601\n",
      "Epoch 57/2000\n",
      "2672/2672 [==============================] - 35s 13ms/step - loss: 4.0465 - mean_squared_error: 4.0465 - val_loss: 4.1997 - val_mean_squared_error: 4.1997\n",
      "Epoch 58/2000\n",
      "2672/2672 [==============================] - 35s 13ms/step - loss: 4.0452 - mean_squared_error: 4.0452 - val_loss: 4.2124 - val_mean_squared_error: 4.2124\n",
      "Epoch 59/2000\n",
      "2672/2672 [==============================] - 35s 13ms/step - loss: 4.0681 - mean_squared_error: 4.0681 - val_loss: 4.1686 - val_mean_squared_error: 4.1686\n",
      "Epoch 60/2000\n",
      "2672/2672 [==============================] - 35s 13ms/step - loss: 4.0793 - mean_squared_error: 4.0793 - val_loss: 4.2614 - val_mean_squared_error: 4.2614\n",
      "Epoch 61/2000\n",
      "2672/2672 [==============================] - 35s 13ms/step - loss: 4.0585 - mean_squared_error: 4.0585 - val_loss: 4.2634 - val_mean_squared_error: 4.2634\n",
      "Epoch 62/2000\n",
      "2672/2672 [==============================] - 35s 13ms/step - loss: 4.0779 - mean_squared_error: 4.0779 - val_loss: 4.2358 - val_mean_squared_error: 4.2358\n",
      "Epoch 63/2000\n",
      "2672/2672 [==============================] - 35s 13ms/step - loss: 4.1027 - mean_squared_error: 4.1027 - val_loss: 4.1732 - val_mean_squared_error: 4.1732\n",
      "Epoch 64/2000\n",
      "2672/2672 [==============================] - 35s 13ms/step - loss: 4.0505 - mean_squared_error: 4.0505 - val_loss: 4.2094 - val_mean_squared_error: 4.2094\n",
      "Epoch 65/2000\n",
      "2672/2672 [==============================] - 35s 13ms/step - loss: 4.0558 - mean_squared_error: 4.0558 - val_loss: 4.1894 - val_mean_squared_error: 4.1894\n",
      "Epoch 66/2000\n",
      "2672/2672 [==============================] - 36s 13ms/step - loss: 4.0778 - mean_squared_error: 4.0778 - val_loss: 4.2852 - val_mean_squared_error: 4.2852\n",
      "Epoch 67/2000\n",
      "2672/2672 [==============================] - 35s 13ms/step - loss: 4.1031 - mean_squared_error: 4.1031 - val_loss: 4.2240 - val_mean_squared_error: 4.2240\n",
      "Epoch 68/2000\n",
      "2672/2672 [==============================] - 36s 13ms/step - loss: 4.0745 - mean_squared_error: 4.0745 - val_loss: 4.2301 - val_mean_squared_error: 4.2301\n",
      "Epoch 69/2000\n",
      "2672/2672 [==============================] - 35s 13ms/step - loss: 4.1013 - mean_squared_error: 4.1013 - val_loss: 4.2329 - val_mean_squared_error: 4.2329\n",
      "Epoch 70/2000\n",
      "2672/2672 [==============================] - 36s 13ms/step - loss: 4.0709 - mean_squared_error: 4.0709 - val_loss: 4.1807 - val_mean_squared_error: 4.1807\n",
      "Epoch 71/2000\n",
      "2672/2672 [==============================] - 36s 13ms/step - loss: 4.1000 - mean_squared_error: 4.1000 - val_loss: 4.2248 - val_mean_squared_error: 4.2248\n",
      "Epoch 72/2000\n",
      "2672/2672 [==============================] - 35s 13ms/step - loss: 4.0812 - mean_squared_error: 4.0812 - val_loss: 4.3299 - val_mean_squared_error: 4.3299\n",
      "Epoch 73/2000\n",
      "2672/2672 [==============================] - 35s 13ms/step - loss: 4.0844 - mean_squared_error: 4.0844 - val_loss: 4.1798 - val_mean_squared_error: 4.1798\n",
      "Epoch 74/2000\n",
      "2672/2672 [==============================] - 35s 13ms/step - loss: 4.1185 - mean_squared_error: 4.1185 - val_loss: 4.1773 - val_mean_squared_error: 4.1773\n",
      "Epoch 75/2000\n",
      "2672/2672 [==============================] - 35s 13ms/step - loss: 4.0746 - mean_squared_error: 4.0746 - val_loss: 4.2372 - val_mean_squared_error: 4.2372\n",
      "Epoch 76/2000\n",
      "2672/2672 [==============================] - 35s 13ms/step - loss: 4.0477 - mean_squared_error: 4.0477 - val_loss: 4.1561 - val_mean_squared_error: 4.1561\n",
      "Epoch 77/2000\n",
      "2672/2672 [==============================] - 35s 13ms/step - loss: 4.0964 - mean_squared_error: 4.0964 - val_loss: 4.2075 - val_mean_squared_error: 4.2075\n",
      "Epoch 78/2000\n",
      "2672/2672 [==============================] - 35s 13ms/step - loss: 4.0738 - mean_squared_error: 4.0738 - val_loss: 4.1566 - val_mean_squared_error: 4.1566\n",
      "Epoch 79/2000\n",
      "2672/2672 [==============================] - 35s 13ms/step - loss: 4.0679 - mean_squared_error: 4.0679 - val_loss: 4.2000 - val_mean_squared_error: 4.2000\n",
      "Epoch 80/2000\n",
      "2672/2672 [==============================] - 35s 13ms/step - loss: 4.0995 - mean_squared_error: 4.0995 - val_loss: 4.1521 - val_mean_squared_error: 4.1521\n",
      "Restoring model weights from the end of the best epoch.\n",
      "Epoch 00080: early stopping\n"
     ]
    },
    {
     "data": {
      "text/plain": [
       "<tensorflow.python.keras.callbacks.History at 0x1937bf9e5e0>"
      ]
     },
     "execution_count": 7,
     "metadata": {},
     "output_type": "execute_result"
    }
   ],
   "source": [
    "#train the model------------------------------------------------------------------------------------------ \n",
    "#earlystopping to find the optimal number of epochs \n",
    "earlystopping = callbacks.EarlyStopping(monitor =\"val_loss\",  \n",
    "                                            mode =\"min\", patience = 25,  \n",
    "                                            restore_best_weights = True,\n",
    "                                           verbose=1) \n",
    "eps=2000\n",
    "bsize=8\n",
    "\n",
    "model.fit(img,lb,validation_split=0.1, epochs=eps, batch_size=bsize,callbacks=[earlystopping])"
   ]
  },
  {
   "cell_type": "code",
   "execution_count": 8,
   "metadata": {},
   "outputs": [
    {
     "name": "stdout",
     "output_type": "stream",
     "text": [
      "186/186 [==============================] - 2s 8ms/step - loss: 4.4413 - mean_squared_error: 4.4413\n",
      "The test MSE is 4.4412689208984375\n"
     ]
    }
   ],
   "source": [
    "#evaluate on testset\n",
    "eval=model.evaluate(test_img, test_lb)\n",
    "print('The test MSE is',eval[1])"
   ]
  },
  {
   "cell_type": "markdown",
   "metadata": {},
   "source": [
    "# Plot a sample prediction and the corresponding ground truth\n"
   ]
  },
  {
   "cell_type": "code",
   "execution_count": 12,
   "metadata": {},
   "outputs": [
    {
     "data": {
      "image/png": "[encoded data removed]",
      "text/plain": [
       "<Figure size 432x288 with 2 Axes>"
      ]
     },
     "metadata": {
      "needs_background": "light"
     },
     "output_type": "display_data"
    }
   ],
   "source": [
    "predictions=model.predict(test_img)\n",
    "assert predictions.shape==test_lb.shape\n",
    "#predicted value\n",
    "sample=np.round(predictions[120]).reshape(32,32)\n",
    "\n",
    "#Plot the corresponding label  of the testset\n",
    "ground_truth=test_lb[120].reshape(32,32)\n",
    "\n",
    "fig, ax = plt.subplots(1,2)\n",
    "ax[0].imshow(sample);\n",
    "ax[0].set_title('Prediction')\n",
    "ax[1].imshow(ground_truth);\n",
    "ax[1].set_title('Ground Truth')\n",
    "plt.savefig('CNN32')\n"
   ]
  },
  {
   "cell_type": "markdown",
   "metadata": {},
   "source": [
    "# Model structure"
   ]
  },
  {
   "cell_type": "code",
   "execution_count": 7,
   "metadata": {},
   "outputs": [
    {
     "data": {
      "image/png": "[encoded data removed]",
      "text/plain": [
       "<IPython.core.display.Image object>"
      ]
     },
     "execution_count": 7,
     "metadata": {},
     "output_type": "execute_result"
    }
   ],
   "source": [
    "tf.keras.utils.plot_model(model,\n",
    "                          show_shapes=True,\n",
    "                          show_layer_names=False, \n",
    "                          rankdir='TB', expand_nested=True)"
   ]
  },
  {
   "cell_type": "code",
   "execution_count": null,
   "metadata": {},
   "outputs": [],
   "source": []
  }
 ],
 "metadata": {
  "kernelspec": {
   "display_name": "Python 3",
   "language": "python",
   "name": "python3"
  },
  "language_info": {
   "codemirror_mode": {
    "name": "ipython",
    "version": 3
   },
   "file_extension": ".py",
   "mimetype": "text/x-python",
   "name": "python",
   "nbconvert_exporter": "python",
   "pygments_lexer": "ipython3",
   "version": "3.8.8"
  }
 },
 "nbformat": 4,
 "nbformat_minor": 4
}
