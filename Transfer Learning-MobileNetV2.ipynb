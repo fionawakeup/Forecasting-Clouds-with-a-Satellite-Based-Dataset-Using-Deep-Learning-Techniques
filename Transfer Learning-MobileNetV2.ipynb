{
 "cells": [
  {
   "cell_type": "code",
   "execution_count": 16,
   "id": "indonesian-bargain",
   "metadata": {},
   "outputs": [],
   "source": [
    "import tensorflow as tf\n",
    "import tensorflow.keras\n",
    "from tensorflow.keras.datasets import fashion_mnist\n",
    "from tensorflow.keras import models\n",
    "from tensorflow.keras import layers\n",
    "import matplotlib.pyplot as plt\n",
    "import numpy as np\n",
    "import h5py\n",
    "\n",
    "from keras import callbacks \n",
    "from keras.constraints import maxnorm\n",
    "from keras.models import Sequential\n",
    "from keras.layers import Dense\n",
    "\n",
    "from keras.layers.convolutional import Conv2D\n",
    "from tensorflow.keras.layers import Conv2D, MaxPooling2D,Dropout,Flatten"
   ]
  },
  {
   "cell_type": "markdown",
   "id": "accepting-beads",
   "metadata": {},
   "source": [
    "# Load data"
   ]
  },
  {
   "cell_type": "code",
   "execution_count": 17,
   "id": "figured-tradition",
   "metadata": {},
   "outputs": [
    {
     "name": "stdout",
     "output_type": "stream",
     "text": [
      "The shape of trainset image is  (23750, 32, 32, 3)\n",
      "The shape of trainset label is  (23750, 1024)\n"
     ]
    }
   ],
   "source": [
    "#I use the same dataset used for DNN model\n",
    "#loading data--------------------------------------------------------------------------------------\n",
    "img=np.load('DNNtrain32_new1.npy')\n",
    "lb=np.load('DNNtrain_label32_new1.npy')\n",
    "\n",
    "print('The shape of trainset image is ',img.shape)\n",
    "print('The shape of trainset label is ',lb.shape)\n"
   ]
  },
  {
   "cell_type": "code",
   "execution_count": 18,
   "id": "primary-toyota",
   "metadata": {},
   "outputs": [
    {
     "name": "stdout",
     "output_type": "stream",
     "text": [
      "The shape of testset image is  (5950, 32, 32, 3)\n",
      "The shape of testset label is  (5950, 1024)\n"
     ]
    }
   ],
   "source": [
    "test_img=np.load('DNNtest32_new1.npy')\n",
    "test_lb=np.load('DNNtest_label32_new1.npy')\n",
    "\n",
    "print('The shape of testset image is ',test_img.shape)\n",
    "print('The shape of testset label is ',test_lb.shape)\n"
   ]
  },
  {
   "cell_type": "markdown",
   "id": "waiting-swedish",
   "metadata": {},
   "source": [
    "# Transfer learning MobileNetV2"
   ]
  },
  {
   "cell_type": "code",
   "execution_count": 19,
   "id": "still-convergence",
   "metadata": {},
   "outputs": [
    {
     "name": "stdout",
     "output_type": "stream",
     "text": [
      "WARNING:tensorflow:`input_shape` is undefined or non-square, or `rows` is not in [96, 128, 160, 192, 224]. Weights for input shape (224, 224) will be loaded as the default.\n"
     ]
    }
   ],
   "source": [
    "# Specify the pre-trained model MobileNetV2\n",
    "base_model = tf.keras.applications.MobileNetV2(input_shape=(32,32,3),include_top=False)"
   ]
  },
  {
   "cell_type": "code",
   "execution_count": 20,
   "id": "serious-locking",
   "metadata": {},
   "outputs": [],
   "source": [
    "# Preprocesses a tensor or Numpy array encoding a batch of images.\n",
    "preprocess_input = tf.keras.applications.mobilenet_v2.preprocess_input"
   ]
  },
  {
   "cell_type": "code",
   "execution_count": 21,
   "id": "affecting-chapter",
   "metadata": {},
   "outputs": [],
   "source": [
    "base_model.trainable = False"
   ]
  },
  {
   "cell_type": "code",
   "execution_count": 29,
   "id": "final-architecture",
   "metadata": {},
   "outputs": [],
   "source": [
    "## Build the transfer learning model uisng Functional API\n",
    "\n",
    "inputs = tf.keras.Input(shape=(32,32,3))\n",
    "x=preprocess_input(inputs)\n",
    "x=base_model(x,training=False)\n",
    "x=global_average_layer(x)\n",
    "output=tf.keras.layers.Dense(32*32)(x)\n",
    "TransModel = tf.keras.Model(inputs,output)\n",
    "TransModel.compile(loss='mean_squared_error',\n",
    "              optimizer='adam',\n",
    "              metrics=['MeanSquaredError'])"
   ]
  },
  {
   "cell_type": "code",
   "execution_count": 32,
   "id": "documented-rates",
   "metadata": {},
   "outputs": [
    {
     "name": "stdout",
     "output_type": "stream",
     "text": [
      "Epoch 1/2000\n",
      "2672/2672 [==============================] - 29s 11ms/step - loss: 11.6275 - mean_squared_error: 11.6275 - val_loss: 10.4816 - val_mean_squared_error: 10.4816\n",
      "Epoch 2/2000\n",
      "2672/2672 [==============================] - 28s 10ms/step - loss: 9.8563 - mean_squared_error: 9.8563 - val_loss: 9.8032 - val_mean_squared_error: 9.8032\n",
      "Epoch 3/2000\n",
      "2672/2672 [==============================] - 28s 11ms/step - loss: 9.2782 - mean_squared_error: 9.2782 - val_loss: 9.3344 - val_mean_squared_error: 9.3344\n",
      "Epoch 4/2000\n",
      "2672/2672 [==============================] - 28s 10ms/step - loss: 9.0006 - mean_squared_error: 9.0006 - val_loss: 9.1330 - val_mean_squared_error: 9.1330\n",
      "Epoch 5/2000\n",
      "2672/2672 [==============================] - 28s 10ms/step - loss: 8.8285 - mean_squared_error: 8.8285 - val_loss: 9.0756 - val_mean_squared_error: 9.0756\n",
      "Epoch 6/2000\n",
      "2672/2672 [==============================] - 27s 10ms/step - loss: 8.7082 - mean_squared_error: 8.7082 - val_loss: 9.0493 - val_mean_squared_error: 9.0493\n",
      "Epoch 7/2000\n",
      "2672/2672 [==============================] - 28s 10ms/step - loss: 8.6198 - mean_squared_error: 8.6198 - val_loss: 8.8622 - val_mean_squared_error: 8.8622\n",
      "Epoch 8/2000\n",
      "2672/2672 [==============================] - 28s 10ms/step - loss: 8.5538 - mean_squared_error: 8.5538 - val_loss: 8.8667 - val_mean_squared_error: 8.8667\n",
      "Epoch 9/2000\n",
      "2672/2672 [==============================] - 28s 10ms/step - loss: 8.4992 - mean_squared_error: 8.4992 - val_loss: 8.7409 - val_mean_squared_error: 8.7409\n",
      "Epoch 10/2000\n",
      "2672/2672 [==============================] - 28s 10ms/step - loss: 8.4558 - mean_squared_error: 8.4558 - val_loss: 8.9032 - val_mean_squared_error: 8.9032\n",
      "Epoch 11/2000\n",
      "2672/2672 [==============================] - 28s 10ms/step - loss: 8.4199 - mean_squared_error: 8.4199 - val_loss: 8.8116 - val_mean_squared_error: 8.8116\n",
      "Epoch 12/2000\n",
      "2672/2672 [==============================] - 28s 10ms/step - loss: 8.3868 - mean_squared_error: 8.3868 - val_loss: 8.7183 - val_mean_squared_error: 8.7183\n",
      "Epoch 13/2000\n",
      "2672/2672 [==============================] - 28s 11ms/step - loss: 8.3584 - mean_squared_error: 8.3584 - val_loss: 8.8370 - val_mean_squared_error: 8.8370\n",
      "Epoch 14/2000\n",
      "2672/2672 [==============================] - 28s 11ms/step - loss: 8.3314 - mean_squared_error: 8.3314 - val_loss: 8.6812 - val_mean_squared_error: 8.6812\n",
      "Epoch 15/2000\n",
      "2672/2672 [==============================] - 28s 11ms/step - loss: 8.3100 - mean_squared_error: 8.3100 - val_loss: 8.6575 - val_mean_squared_error: 8.6575\n",
      "Epoch 16/2000\n",
      "2672/2672 [==============================] - 28s 10ms/step - loss: 8.2888 - mean_squared_error: 8.2888 - val_loss: 8.7591 - val_mean_squared_error: 8.7591\n",
      "Epoch 17/2000\n",
      "2672/2672 [==============================] - 28s 10ms/step - loss: 8.2702 - mean_squared_error: 8.2702 - val_loss: 8.7396 - val_mean_squared_error: 8.7396\n",
      "Epoch 18/2000\n",
      "2672/2672 [==============================] - 28s 10ms/step - loss: 8.2511 - mean_squared_error: 8.2511 - val_loss: 8.7274 - val_mean_squared_error: 8.7274\n",
      "Epoch 19/2000\n",
      "2672/2672 [==============================] - 28s 10ms/step - loss: 8.2346 - mean_squared_error: 8.2346 - val_loss: 8.6200 - val_mean_squared_error: 8.6200\n",
      "Epoch 20/2000\n",
      "2672/2672 [==============================] - 28s 10ms/step - loss: 8.2174 - mean_squared_error: 8.2174 - val_loss: 8.6967 - val_mean_squared_error: 8.6967\n",
      "Epoch 21/2000\n",
      "2672/2672 [==============================] - 28s 10ms/step - loss: 8.2041 - mean_squared_error: 8.2041 - val_loss: 8.6688 - val_mean_squared_error: 8.6688\n",
      "Epoch 22/2000\n",
      "2672/2672 [==============================] - 28s 10ms/step - loss: 8.1879 - mean_squared_error: 8.1879 - val_loss: 8.6357 - val_mean_squared_error: 8.6357\n",
      "Epoch 23/2000\n",
      "2672/2672 [==============================] - 28s 10ms/step - loss: 8.1755 - mean_squared_error: 8.1755 - val_loss: 8.4851 - val_mean_squared_error: 8.4851\n",
      "Epoch 24/2000\n",
      "2672/2672 [==============================] - 28s 10ms/step - loss: 8.1623 - mean_squared_error: 8.1623 - val_loss: 8.5140 - val_mean_squared_error: 8.5140\n",
      "Epoch 25/2000\n",
      "2672/2672 [==============================] - 28s 10ms/step - loss: 8.1487 - mean_squared_error: 8.1487 - val_loss: 8.5407 - val_mean_squared_error: 8.5407\n",
      "Epoch 26/2000\n",
      "2672/2672 [==============================] - 28s 10ms/step - loss: 8.1370 - mean_squared_error: 8.1370 - val_loss: 8.4548 - val_mean_squared_error: 8.4548\n",
      "Epoch 27/2000\n",
      "2672/2672 [==============================] - 28s 10ms/step - loss: 8.1260 - mean_squared_error: 8.1260 - val_loss: 8.5907 - val_mean_squared_error: 8.5907\n",
      "Epoch 28/2000\n",
      "2672/2672 [==============================] - 28s 10ms/step - loss: 8.1136 - mean_squared_error: 8.1136 - val_loss: 8.4664 - val_mean_squared_error: 8.4664\n",
      "Epoch 29/2000\n",
      "2672/2672 [==============================] - 28s 10ms/step - loss: 8.1024 - mean_squared_error: 8.1024 - val_loss: 8.5704 - val_mean_squared_error: 8.5704\n",
      "Epoch 30/2000\n",
      "2672/2672 [==============================] - 28s 10ms/step - loss: 8.0932 - mean_squared_error: 8.0932 - val_loss: 8.4721 - val_mean_squared_error: 8.4721\n",
      "Epoch 31/2000\n",
      "2672/2672 [==============================] - 28s 10ms/step - loss: 8.0807 - mean_squared_error: 8.0807 - val_loss: 8.5720 - val_mean_squared_error: 8.5720\n",
      "Epoch 32/2000\n",
      "2672/2672 [==============================] - 28s 10ms/step - loss: 8.0718 - mean_squared_error: 8.0718 - val_loss: 8.4324 - val_mean_squared_error: 8.4324\n",
      "Epoch 33/2000\n",
      "2672/2672 [==============================] - 28s 10ms/step - loss: 8.0622 - mean_squared_error: 8.0622 - val_loss: 8.4770 - val_mean_squared_error: 8.4770\n",
      "Epoch 34/2000\n",
      "2672/2672 [==============================] - 28s 10ms/step - loss: 8.0519 - mean_squared_error: 8.0519 - val_loss: 8.4417 - val_mean_squared_error: 8.4417\n",
      "Epoch 35/2000\n",
      "2672/2672 [==============================] - 28s 10ms/step - loss: 8.0435 - mean_squared_error: 8.0435 - val_loss: 8.4429 - val_mean_squared_error: 8.4429\n",
      "Epoch 36/2000\n",
      "2672/2672 [==============================] - 28s 10ms/step - loss: 8.0342 - mean_squared_error: 8.0342 - val_loss: 8.4853 - val_mean_squared_error: 8.4853\n",
      "Epoch 37/2000\n",
      "2672/2672 [==============================] - 28s 10ms/step - loss: 8.0251 - mean_squared_error: 8.0251 - val_loss: 8.4466 - val_mean_squared_error: 8.4466\n",
      "Epoch 38/2000\n",
      "2672/2672 [==============================] - 28s 10ms/step - loss: 8.0177 - mean_squared_error: 8.0177 - val_loss: 8.4656 - val_mean_squared_error: 8.4656\n",
      "Epoch 39/2000\n",
      "2672/2672 [==============================] - 28s 10ms/step - loss: 8.0099 - mean_squared_error: 8.0099 - val_loss: 8.4025 - val_mean_squared_error: 8.4025\n",
      "Epoch 40/2000\n",
      "2672/2672 [==============================] - 28s 10ms/step - loss: 8.0017 - mean_squared_error: 8.0017 - val_loss: 8.2802 - val_mean_squared_error: 8.2802\n",
      "Epoch 41/2000\n",
      "2672/2672 [==============================] - 28s 10ms/step - loss: 7.9932 - mean_squared_error: 7.9932 - val_loss: 8.3187 - val_mean_squared_error: 8.3187\n",
      "Epoch 42/2000\n",
      "2672/2672 [==============================] - 28s 10ms/step - loss: 7.9863 - mean_squared_error: 7.9863 - val_loss: 8.4548 - val_mean_squared_error: 8.4548\n",
      "Epoch 43/2000\n",
      "2672/2672 [==============================] - 28s 10ms/step - loss: 7.9786 - mean_squared_error: 7.9786 - val_loss: 8.3185 - val_mean_squared_error: 8.3185\n",
      "Epoch 44/2000\n",
      "2672/2672 [==============================] - 28s 10ms/step - loss: 7.9714 - mean_squared_error: 7.9714 - val_loss: 8.5033 - val_mean_squared_error: 8.5033\n",
      "Epoch 45/2000\n",
      "2672/2672 [==============================] - 28s 10ms/step - loss: 7.9638 - mean_squared_error: 7.9638 - val_loss: 8.3936 - val_mean_squared_error: 8.3936\n",
      "Epoch 46/2000\n",
      "2672/2672 [==============================] - 27s 10ms/step - loss: 7.9562 - mean_squared_error: 7.9562 - val_loss: 8.3098 - val_mean_squared_error: 8.3098\n",
      "Epoch 47/2000\n",
      "2672/2672 [==============================] - 27s 10ms/step - loss: 7.9505 - mean_squared_error: 7.9505 - val_loss: 8.4144 - val_mean_squared_error: 8.4144\n",
      "Epoch 48/2000\n",
      "2672/2672 [==============================] - 28s 10ms/step - loss: 7.9438 - mean_squared_error: 7.9438 - val_loss: 8.3196 - val_mean_squared_error: 8.3196\n",
      "Epoch 49/2000\n"
     ]
    },
    {
     "name": "stdout",
     "output_type": "stream",
     "text": [
      "2672/2672 [==============================] - 28s 10ms/step - loss: 7.9373 - mean_squared_error: 7.9373 - val_loss: 8.2380 - val_mean_squared_error: 8.2380\n",
      "Epoch 50/2000\n",
      "2672/2672 [==============================] - 28s 10ms/step - loss: 7.9297 - mean_squared_error: 7.9297 - val_loss: 8.2239 - val_mean_squared_error: 8.2239\n",
      "Epoch 51/2000\n",
      "2672/2672 [==============================] - 28s 10ms/step - loss: 7.9243 - mean_squared_error: 7.9243 - val_loss: 8.2146 - val_mean_squared_error: 8.2146\n",
      "Epoch 52/2000\n",
      "2672/2672 [==============================] - 28s 10ms/step - loss: 7.9184 - mean_squared_error: 7.9184 - val_loss: 8.3109 - val_mean_squared_error: 8.3109\n",
      "Epoch 53/2000\n",
      "2672/2672 [==============================] - 27s 10ms/step - loss: 7.9131 - mean_squared_error: 7.9131 - val_loss: 8.2725 - val_mean_squared_error: 8.2725\n",
      "Epoch 54/2000\n",
      "2672/2672 [==============================] - 28s 10ms/step - loss: 7.9073 - mean_squared_error: 7.9073 - val_loss: 8.2776 - val_mean_squared_error: 8.2776\n",
      "Epoch 55/2000\n",
      "2672/2672 [==============================] - 27s 10ms/step - loss: 7.9010 - mean_squared_error: 7.9010 - val_loss: 8.3170 - val_mean_squared_error: 8.3170\n",
      "Epoch 56/2000\n",
      "2672/2672 [==============================] - 28s 10ms/step - loss: 7.8964 - mean_squared_error: 7.8964 - val_loss: 8.2851 - val_mean_squared_error: 8.2851\n",
      "Epoch 57/2000\n",
      "2672/2672 [==============================] - 28s 10ms/step - loss: 7.8910 - mean_squared_error: 7.8910 - val_loss: 8.2500 - val_mean_squared_error: 8.2500\n",
      "Epoch 58/2000\n",
      "2672/2672 [==============================] - 28s 10ms/step - loss: 7.8852 - mean_squared_error: 7.8852 - val_loss: 8.2599 - val_mean_squared_error: 8.2599\n",
      "Epoch 59/2000\n",
      "2672/2672 [==============================] - 28s 10ms/step - loss: 7.8803 - mean_squared_error: 7.8803 - val_loss: 8.2444 - val_mean_squared_error: 8.2444\n",
      "Epoch 60/2000\n",
      "2672/2672 [==============================] - 28s 10ms/step - loss: 7.8763 - mean_squared_error: 7.8763 - val_loss: 8.2680 - val_mean_squared_error: 8.2680\n",
      "Epoch 61/2000\n",
      "2672/2672 [==============================] - 29s 11ms/step - loss: 7.8702 - mean_squared_error: 7.8702 - val_loss: 8.2665 - val_mean_squared_error: 8.2665\n",
      "Epoch 62/2000\n",
      "2672/2672 [==============================] - 28s 11ms/step - loss: 7.8663 - mean_squared_error: 7.8663 - val_loss: 8.2744 - val_mean_squared_error: 8.2744\n",
      "Epoch 63/2000\n",
      "2672/2672 [==============================] - 29s 11ms/step - loss: 7.8611 - mean_squared_error: 7.8611 - val_loss: 8.2399 - val_mean_squared_error: 8.2399\n",
      "Epoch 64/2000\n",
      "2672/2672 [==============================] - 29s 11ms/step - loss: 7.8554 - mean_squared_error: 7.8554 - val_loss: 8.1635 - val_mean_squared_error: 8.1635\n",
      "Epoch 65/2000\n",
      "2672/2672 [==============================] - 29s 11ms/step - loss: 7.8522 - mean_squared_error: 7.8522 - val_loss: 8.1299 - val_mean_squared_error: 8.1299\n",
      "Epoch 66/2000\n",
      "2672/2672 [==============================] - 29s 11ms/step - loss: 7.8477 - mean_squared_error: 7.8477 - val_loss: 8.1503 - val_mean_squared_error: 8.1503\n",
      "Epoch 67/2000\n",
      "2672/2672 [==============================] - 29s 11ms/step - loss: 7.8436 - mean_squared_error: 7.8436 - val_loss: 8.2302 - val_mean_squared_error: 8.2302\n",
      "Epoch 68/2000\n",
      "2672/2672 [==============================] - 29s 11ms/step - loss: 7.8401 - mean_squared_error: 7.8401 - val_loss: 8.2399 - val_mean_squared_error: 8.2399\n",
      "Epoch 69/2000\n",
      "2672/2672 [==============================] - 30s 11ms/step - loss: 7.8340 - mean_squared_error: 7.8340 - val_loss: 8.1789 - val_mean_squared_error: 8.1789\n",
      "Epoch 70/2000\n",
      "2672/2672 [==============================] - 31s 11ms/step - loss: 7.8297 - mean_squared_error: 7.8297 - val_loss: 8.0881 - val_mean_squared_error: 8.0881\n",
      "Epoch 71/2000\n",
      "2672/2672 [==============================] - 31s 12ms/step - loss: 7.8276 - mean_squared_error: 7.8276 - val_loss: 8.1351 - val_mean_squared_error: 8.1351\n",
      "Epoch 72/2000\n",
      "2672/2672 [==============================] - 30s 11ms/step - loss: 7.8244 - mean_squared_error: 7.8244 - val_loss: 8.2127 - val_mean_squared_error: 8.2127\n",
      "Epoch 73/2000\n",
      "2672/2672 [==============================] - 29s 11ms/step - loss: 7.8200 - mean_squared_error: 7.8200 - val_loss: 8.1253 - val_mean_squared_error: 8.1253\n",
      "Epoch 74/2000\n",
      "2672/2672 [==============================] - 30s 11ms/step - loss: 7.8162 - mean_squared_error: 7.8162 - val_loss: 8.2247 - val_mean_squared_error: 8.2247\n",
      "Epoch 75/2000\n",
      "2672/2672 [==============================] - 30s 11ms/step - loss: 7.8132 - mean_squared_error: 7.8132 - val_loss: 8.1567 - val_mean_squared_error: 8.1567\n",
      "Epoch 76/2000\n",
      "2672/2672 [==============================] - 29s 11ms/step - loss: 7.8092 - mean_squared_error: 7.8092 - val_loss: 8.1412 - val_mean_squared_error: 8.1412\n",
      "Epoch 77/2000\n",
      "2672/2672 [==============================] - 29s 11ms/step - loss: 7.8062 - mean_squared_error: 7.8062 - val_loss: 8.1539 - val_mean_squared_error: 8.1539\n",
      "Epoch 78/2000\n",
      "2672/2672 [==============================] - 29s 11ms/step - loss: 7.8030 - mean_squared_error: 7.8030 - val_loss: 8.1218 - val_mean_squared_error: 8.1218\n",
      "Epoch 79/2000\n",
      "2672/2672 [==============================] - 29s 11ms/step - loss: 7.7990 - mean_squared_error: 7.7990 - val_loss: 8.1018 - val_mean_squared_error: 8.1018\n",
      "Epoch 80/2000\n",
      "2672/2672 [==============================] - 31s 12ms/step - loss: 7.7965 - mean_squared_error: 7.7965 - val_loss: 8.1081 - val_mean_squared_error: 8.1081\n",
      "Epoch 81/2000\n",
      "2672/2672 [==============================] - 30s 11ms/step - loss: 7.7937 - mean_squared_error: 7.7937 - val_loss: 8.1888 - val_mean_squared_error: 8.1888\n",
      "Epoch 82/2000\n",
      "2672/2672 [==============================] - 30s 11ms/step - loss: 7.7903 - mean_squared_error: 7.7903 - val_loss: 8.0464 - val_mean_squared_error: 8.0464\n",
      "Epoch 83/2000\n",
      "2672/2672 [==============================] - 30s 11ms/step - loss: 7.7874 - mean_squared_error: 7.7874 - val_loss: 8.0795 - val_mean_squared_error: 8.0795\n",
      "Epoch 84/2000\n",
      "2672/2672 [==============================] - 30s 11ms/step - loss: 7.7832 - mean_squared_error: 7.7832 - val_loss: 8.0591 - val_mean_squared_error: 8.0591\n",
      "Epoch 85/2000\n",
      "2672/2672 [==============================] - 30s 11ms/step - loss: 7.7816 - mean_squared_error: 7.7816 - val_loss: 8.1025 - val_mean_squared_error: 8.1025\n",
      "Epoch 86/2000\n",
      "2672/2672 [==============================] - 30s 11ms/step - loss: 7.7779 - mean_squared_error: 7.7779 - val_loss: 8.1122 - val_mean_squared_error: 8.1122\n",
      "Epoch 87/2000\n",
      "2672/2672 [==============================] - 31s 12ms/step - loss: 7.7763 - mean_squared_error: 7.7763 - val_loss: 8.0781 - val_mean_squared_error: 8.0781\n",
      "Epoch 88/2000\n",
      "2672/2672 [==============================] - 29s 11ms/step - loss: 7.7727 - mean_squared_error: 7.7727 - val_loss: 8.0614 - val_mean_squared_error: 8.0614\n",
      "Epoch 89/2000\n",
      "2672/2672 [==============================] - 29s 11ms/step - loss: 7.7708 - mean_squared_error: 7.7708 - val_loss: 8.0866 - val_mean_squared_error: 8.0866\n",
      "Epoch 90/2000\n",
      "2672/2672 [==============================] - 29s 11ms/step - loss: 7.7665 - mean_squared_error: 7.7665 - val_loss: 8.0052 - val_mean_squared_error: 8.0052\n",
      "Epoch 91/2000\n",
      "2672/2672 [==============================] - 28s 11ms/step - loss: 7.7646 - mean_squared_error: 7.7646 - val_loss: 8.0813 - val_mean_squared_error: 8.0813\n",
      "Epoch 92/2000\n",
      "2672/2672 [==============================] - 29s 11ms/step - loss: 7.7611 - mean_squared_error: 7.7611 - val_loss: 8.0095 - val_mean_squared_error: 8.0095\n",
      "Epoch 93/2000\n",
      "2672/2672 [==============================] - 29s 11ms/step - loss: 7.7600 - mean_squared_error: 7.7600 - val_loss: 8.0994 - val_mean_squared_error: 8.0994\n",
      "Epoch 94/2000\n",
      "2672/2672 [==============================] - 29s 11ms/step - loss: 7.7579 - mean_squared_error: 7.7579 - val_loss: 8.0916 - val_mean_squared_error: 8.0916\n",
      "Epoch 95/2000\n",
      "2672/2672 [==============================] - 29s 11ms/step - loss: 7.7562 - mean_squared_error: 7.7562 - val_loss: 8.0975 - val_mean_squared_error: 8.0975\n",
      "Epoch 96/2000\n",
      "2672/2672 [==============================] - 29s 11ms/step - loss: 7.7538 - mean_squared_error: 7.7538 - val_loss: 8.0899 - val_mean_squared_error: 8.0899\n",
      "Epoch 97/2000\n"
     ]
    },
    {
     "name": "stdout",
     "output_type": "stream",
     "text": [
      "2672/2672 [==============================] - 29s 11ms/step - loss: 7.7508 - mean_squared_error: 7.7508 - val_loss: 8.1045 - val_mean_squared_error: 8.1045\n",
      "Epoch 98/2000\n",
      "2672/2672 [==============================] - 29s 11ms/step - loss: 7.7489 - mean_squared_error: 7.7489 - val_loss: 8.1612 - val_mean_squared_error: 8.1612\n",
      "Epoch 99/2000\n",
      "2672/2672 [==============================] - 29s 11ms/step - loss: 7.7478 - mean_squared_error: 7.7478 - val_loss: 8.0341 - val_mean_squared_error: 8.0341\n",
      "Epoch 100/2000\n",
      "2672/2672 [==============================] - 29s 11ms/step - loss: 7.7448 - mean_squared_error: 7.7448 - val_loss: 8.0239 - val_mean_squared_error: 8.0239\n",
      "Epoch 101/2000\n",
      "2672/2672 [==============================] - 28s 11ms/step - loss: 7.7432 - mean_squared_error: 7.7432 - val_loss: 8.1323 - val_mean_squared_error: 8.1323\n",
      "Epoch 102/2000\n",
      "2672/2672 [==============================] - 28s 11ms/step - loss: 7.7420 - mean_squared_error: 7.7420 - val_loss: 8.0421 - val_mean_squared_error: 8.0421\n",
      "Epoch 103/2000\n",
      "2672/2672 [==============================] - 28s 11ms/step - loss: 7.7393 - mean_squared_error: 7.7393 - val_loss: 8.0468 - val_mean_squared_error: 8.0468\n",
      "Epoch 104/2000\n",
      "2672/2672 [==============================] - 28s 11ms/step - loss: 7.7364 - mean_squared_error: 7.7364 - val_loss: 8.0688 - val_mean_squared_error: 8.0688\n",
      "Epoch 105/2000\n",
      "2672/2672 [==============================] - 29s 11ms/step - loss: 7.7363 - mean_squared_error: 7.7363 - val_loss: 8.0331 - val_mean_squared_error: 8.0331\n",
      "Epoch 106/2000\n",
      "2672/2672 [==============================] - 29s 11ms/step - loss: 7.7342 - mean_squared_error: 7.7342 - val_loss: 8.1215 - val_mean_squared_error: 8.1215\n",
      "Epoch 107/2000\n",
      "2672/2672 [==============================] - 29s 11ms/step - loss: 7.7316 - mean_squared_error: 7.7316 - val_loss: 8.0874 - val_mean_squared_error: 8.0874\n",
      "Epoch 108/2000\n",
      "2672/2672 [==============================] - 28s 11ms/step - loss: 7.7295 - mean_squared_error: 7.7295 - val_loss: 8.0725 - val_mean_squared_error: 8.0725\n",
      "Epoch 109/2000\n",
      "2672/2672 [==============================] - 28s 11ms/step - loss: 7.7286 - mean_squared_error: 7.7286 - val_loss: 8.0221 - val_mean_squared_error: 8.0221\n",
      "Epoch 110/2000\n",
      "2672/2672 [==============================] - 28s 11ms/step - loss: 7.7268 - mean_squared_error: 7.7268 - val_loss: 8.0414 - val_mean_squared_error: 8.0414\n",
      "Epoch 111/2000\n",
      "2672/2672 [==============================] - 28s 11ms/step - loss: 7.7231 - mean_squared_error: 7.7231 - val_loss: 7.9449 - val_mean_squared_error: 7.9449\n",
      "Epoch 112/2000\n",
      "2672/2672 [==============================] - 28s 11ms/step - loss: 7.7240 - mean_squared_error: 7.7240 - val_loss: 8.1033 - val_mean_squared_error: 8.1033\n",
      "Epoch 113/2000\n",
      "2672/2672 [==============================] - 28s 11ms/step - loss: 7.7203 - mean_squared_error: 7.7203 - val_loss: 8.0271 - val_mean_squared_error: 8.0271\n",
      "Epoch 114/2000\n",
      "2672/2672 [==============================] - 28s 11ms/step - loss: 7.7204 - mean_squared_error: 7.7204 - val_loss: 8.0548 - val_mean_squared_error: 8.0548\n",
      "Epoch 115/2000\n",
      "2672/2672 [==============================] - 28s 11ms/step - loss: 7.7182 - mean_squared_error: 7.7182 - val_loss: 8.0993 - val_mean_squared_error: 8.0993\n",
      "Epoch 116/2000\n",
      "2672/2672 [==============================] - 28s 11ms/step - loss: 7.7182 - mean_squared_error: 7.7182 - val_loss: 8.0261 - val_mean_squared_error: 8.0261\n",
      "Epoch 117/2000\n",
      "2672/2672 [==============================] - 28s 11ms/step - loss: 7.7152 - mean_squared_error: 7.7152 - val_loss: 7.9813 - val_mean_squared_error: 7.9813\n",
      "Epoch 118/2000\n",
      "2672/2672 [==============================] - 28s 11ms/step - loss: 7.7155 - mean_squared_error: 7.7155 - val_loss: 8.0631 - val_mean_squared_error: 8.0631\n",
      "Epoch 119/2000\n",
      "2672/2672 [==============================] - 28s 11ms/step - loss: 7.7138 - mean_squared_error: 7.7138 - val_loss: 8.1094 - val_mean_squared_error: 8.1094\n",
      "Epoch 120/2000\n",
      "2672/2672 [==============================] - 28s 11ms/step - loss: 7.7125 - mean_squared_error: 7.7125 - val_loss: 8.0705 - val_mean_squared_error: 8.0705\n",
      "Epoch 121/2000\n",
      "2672/2672 [==============================] - 28s 11ms/step - loss: 7.7107 - mean_squared_error: 7.7107 - val_loss: 7.9940 - val_mean_squared_error: 7.9940\n",
      "Epoch 122/2000\n",
      "2672/2672 [==============================] - 28s 11ms/step - loss: 7.7097 - mean_squared_error: 7.7097 - val_loss: 7.9345 - val_mean_squared_error: 7.9345\n",
      "Epoch 123/2000\n",
      "2672/2672 [==============================] - 29s 11ms/step - loss: 7.7085 - mean_squared_error: 7.7085 - val_loss: 7.9732 - val_mean_squared_error: 7.9732\n",
      "Epoch 124/2000\n",
      "2672/2672 [==============================] - 30s 11ms/step - loss: 7.7071 - mean_squared_error: 7.7071 - val_loss: 7.9615 - val_mean_squared_error: 7.9615\n",
      "Epoch 125/2000\n",
      "2672/2672 [==============================] - 28s 11ms/step - loss: 7.7044 - mean_squared_error: 7.7044 - val_loss: 7.9500 - val_mean_squared_error: 7.9500\n",
      "Epoch 126/2000\n",
      "2672/2672 [==============================] - 28s 11ms/step - loss: 7.7054 - mean_squared_error: 7.7054 - val_loss: 8.0156 - val_mean_squared_error: 8.0156\n",
      "Epoch 127/2000\n",
      "2672/2672 [==============================] - 29s 11ms/step - loss: 7.7036 - mean_squared_error: 7.7036 - val_loss: 7.9135 - val_mean_squared_error: 7.9135\n",
      "Epoch 128/2000\n",
      "2672/2672 [==============================] - 29s 11ms/step - loss: 7.7020 - mean_squared_error: 7.7020 - val_loss: 7.9350 - val_mean_squared_error: 7.9350\n",
      "Epoch 129/2000\n",
      "2672/2672 [==============================] - 28s 11ms/step - loss: 7.7010 - mean_squared_error: 7.7010 - val_loss: 7.9732 - val_mean_squared_error: 7.9732\n",
      "Epoch 130/2000\n",
      "2672/2672 [==============================] - 28s 11ms/step - loss: 7.7003 - mean_squared_error: 7.7003 - val_loss: 7.9849 - val_mean_squared_error: 7.9849\n",
      "Epoch 131/2000\n",
      "2672/2672 [==============================] - 28s 11ms/step - loss: 7.6995 - mean_squared_error: 7.6995 - val_loss: 8.0971 - val_mean_squared_error: 8.0971\n",
      "Epoch 132/2000\n",
      "2672/2672 [==============================] - 28s 11ms/step - loss: 7.6986 - mean_squared_error: 7.6986 - val_loss: 8.0468 - val_mean_squared_error: 8.0468\n",
      "Epoch 133/2000\n",
      "2672/2672 [==============================] - 28s 11ms/step - loss: 7.6972 - mean_squared_error: 7.6972 - val_loss: 8.0475 - val_mean_squared_error: 8.0475\n",
      "Epoch 134/2000\n",
      "2672/2672 [==============================] - 28s 11ms/step - loss: 7.6967 - mean_squared_error: 7.6967 - val_loss: 8.0086 - val_mean_squared_error: 8.0086\n",
      "Epoch 135/2000\n",
      "2672/2672 [==============================] - 28s 11ms/step - loss: 7.6955 - mean_squared_error: 7.6955 - val_loss: 7.9958 - val_mean_squared_error: 7.9958\n",
      "Epoch 136/2000\n",
      "2672/2672 [==============================] - 29s 11ms/step - loss: 7.6934 - mean_squared_error: 7.6934 - val_loss: 8.0520 - val_mean_squared_error: 8.0520\n",
      "Epoch 137/2000\n",
      "2672/2672 [==============================] - 29s 11ms/step - loss: 7.6930 - mean_squared_error: 7.6930 - val_loss: 7.9674 - val_mean_squared_error: 7.9674\n",
      "Epoch 138/2000\n",
      "2672/2672 [==============================] - 29s 11ms/step - loss: 7.6924 - mean_squared_error: 7.6924 - val_loss: 7.9680 - val_mean_squared_error: 7.9680\n",
      "Epoch 139/2000\n",
      "2672/2672 [==============================] - 29s 11ms/step - loss: 7.6924 - mean_squared_error: 7.6924 - val_loss: 7.9749 - val_mean_squared_error: 7.9749\n",
      "Epoch 140/2000\n",
      "2672/2672 [==============================] - 30s 11ms/step - loss: 7.6907 - mean_squared_error: 7.6907 - val_loss: 7.9928 - val_mean_squared_error: 7.9928\n",
      "Epoch 141/2000\n",
      "2672/2672 [==============================] - 29s 11ms/step - loss: 7.6899 - mean_squared_error: 7.6899 - val_loss: 7.9674 - val_mean_squared_error: 7.9674\n",
      "Epoch 142/2000\n",
      "2672/2672 [==============================] - 29s 11ms/step - loss: 7.6892 - mean_squared_error: 7.6892 - val_loss: 7.9533 - val_mean_squared_error: 7.9533\n",
      "Epoch 143/2000\n",
      "2672/2672 [==============================] - 28s 11ms/step - loss: 7.6883 - mean_squared_error: 7.6883 - val_loss: 7.9405 - val_mean_squared_error: 7.9405\n",
      "Epoch 144/2000\n",
      "2672/2672 [==============================] - 29s 11ms/step - loss: 7.6878 - mean_squared_error: 7.6878 - val_loss: 8.0258 - val_mean_squared_error: 8.0258\n",
      "Epoch 145/2000\n"
     ]
    },
    {
     "name": "stdout",
     "output_type": "stream",
     "text": [
      "2672/2672 [==============================] - 28s 11ms/step - loss: 7.6872 - mean_squared_error: 7.6872 - val_loss: 7.9684 - val_mean_squared_error: 7.9684\n",
      "Epoch 146/2000\n",
      "2672/2672 [==============================] - 28s 11ms/step - loss: 7.6857 - mean_squared_error: 7.6857 - val_loss: 8.0204 - val_mean_squared_error: 8.0204\n",
      "Epoch 147/2000\n",
      "2672/2672 [==============================] - 29s 11ms/step - loss: 7.6851 - mean_squared_error: 7.6851 - val_loss: 8.0043 - val_mean_squared_error: 8.0043\n",
      "Epoch 148/2000\n",
      "2672/2672 [==============================] - 28s 11ms/step - loss: 7.6844 - mean_squared_error: 7.6844 - val_loss: 8.0392 - val_mean_squared_error: 8.0392\n",
      "Epoch 149/2000\n",
      "2672/2672 [==============================] - 28s 11ms/step - loss: 7.6843 - mean_squared_error: 7.6843 - val_loss: 8.0093 - val_mean_squared_error: 8.0093\n",
      "Epoch 150/2000\n",
      "2672/2672 [==============================] - 29s 11ms/step - loss: 7.6824 - mean_squared_error: 7.6824 - val_loss: 8.0132 - val_mean_squared_error: 8.0132\n",
      "Epoch 151/2000\n",
      "2672/2672 [==============================] - 29s 11ms/step - loss: 7.6822 - mean_squared_error: 7.6822 - val_loss: 7.9306 - val_mean_squared_error: 7.9306\n",
      "Epoch 152/2000\n",
      "2672/2672 [==============================] - ETA: 0s - loss: 7.6826 - mean_squared_error: 7.6826Restoring model weights from the end of the best epoch.\n",
      "2672/2672 [==============================] - 29s 11ms/step - loss: 7.6826 - mean_squared_error: 7.6826 - val_loss: 7.9546 - val_mean_squared_error: 7.9546\n",
      "Epoch 00152: early stopping\n"
     ]
    },
    {
     "data": {
      "text/plain": [
       "<tensorflow.python.keras.callbacks.History at 0x26369b51f40>"
      ]
     },
     "execution_count": 32,
     "metadata": {},
     "output_type": "execute_result"
    }
   ],
   "source": [
    "#train the model \n",
    "#earlystopping to find the optimal number of epochs \n",
    "earlystopping = callbacks.EarlyStopping(monitor =\"val_loss\",  \n",
    "                                            mode =\"min\", patience = 25,  \n",
    "                                            restore_best_weights = True,\n",
    "                                           verbose=1) \n",
    "eps=2000\n",
    "bsize=8\n",
    "TransModel.fit(img,lb,validation_split=0.1, epochs=eps, batch_size=bsize,callbacks=[earlystopping])"
   ]
  },
  {
   "cell_type": "code",
   "execution_count": 33,
   "id": "middle-lodging",
   "metadata": {},
   "outputs": [
    {
     "name": "stdout",
     "output_type": "stream",
     "text": [
      "Model: \"functional_3\"\n",
      "_________________________________________________________________\n",
      "Layer (type)                 Output Shape              Param #   \n",
      "=================================================================\n",
      "input_9 (InputLayer)         [(None, 32, 32, 3)]       0         \n",
      "_________________________________________________________________\n",
      "tf_op_layer_RealDiv_5 (Tenso [(None, 32, 32, 3)]       0         \n",
      "_________________________________________________________________\n",
      "tf_op_layer_Sub_5 (TensorFlo [(None, 32, 32, 3)]       0         \n",
      "_________________________________________________________________\n",
      "mobilenetv2_1.00_224 (Functi (None, 1, 1, 1280)        2257984   \n",
      "_________________________________________________________________\n",
      "global_average_pooling2d_1 ( (None, 1280)              0         \n",
      "_________________________________________________________________\n",
      "dense_1 (Dense)              (None, 1024)              1311744   \n",
      "=================================================================\n",
      "Total params: 3,569,728\n",
      "Trainable params: 1,311,744\n",
      "Non-trainable params: 2,257,984\n",
      "_________________________________________________________________\n"
     ]
    }
   ],
   "source": [
    "TransModel.summary()"
   ]
  },
  {
   "cell_type": "code",
   "execution_count": 34,
   "id": "under-taiwan",
   "metadata": {},
   "outputs": [
    {
     "data": {
      "image/png": "[encoded data removed]",
      "text/plain": [
       "<IPython.core.display.Image object>"
      ]
     },
     "execution_count": 34,
     "metadata": {},
     "output_type": "execute_result"
    }
   ],
   "source": [
    "tf.keras.utils.plot_model(TransModel,\n",
    "                          show_shapes=True,\n",
    "                          show_layer_names=True, \n",
    "                          rankdir='TB', expand_nested=False)"
   ]
  },
  {
   "cell_type": "code",
   "execution_count": 35,
   "id": "vietnamese-clause",
   "metadata": {},
   "outputs": [
    {
     "name": "stdout",
     "output_type": "stream",
     "text": [
      "186/186 [==============================] - 4s 20ms/step - loss: 7.9891 - mean_squared_error: 7.9891\n"
     ]
    },
    {
     "data": {
      "text/plain": [
       "[7.989144802093506, 7.989144802093506]"
      ]
     },
     "execution_count": 35,
     "metadata": {},
     "output_type": "execute_result"
    }
   ],
   "source": [
    "TransModel.evaluate(test_img, test_lb)"
   ]
  },
  {
   "cell_type": "markdown",
   "id": "sapphire-kazakhstan",
   "metadata": {},
   "source": [
    "# Plot a sample prediction and the corresponding ground truth\n"
   ]
  },
  {
   "cell_type": "code",
   "execution_count": 36,
   "id": "cleared-paintball",
   "metadata": {},
   "outputs": [],
   "source": [
    "predictions=TransModel.predict(test_img)\n",
    "assert predictions.shape==test_lb.shape"
   ]
  },
  {
   "cell_type": "code",
   "execution_count": 39,
   "id": "analyzed-freedom",
   "metadata": {},
   "outputs": [
    {
     "data": {
      "image/png": "[encoded data removed]",
      "text/plain": [
       "<Figure size 432x288 with 2 Axes>"
      ]
     },
     "metadata": {
      "needs_background": "light"
     },
     "output_type": "display_data"
    }
   ],
   "source": [
    "#Plot a sample prediction generated by using testset\n",
    "sample=np.round(predictions[6]).reshape(32,32)\n",
    "\n",
    "plt.imshow(sample)\n",
    "plt.colorbar()\n",
    "plt.show()"
   ]
  },
  {
   "cell_type": "code",
   "execution_count": 40,
   "id": "tested-spain",
   "metadata": {},
   "outputs": [
    {
     "data": {
      "image/png": "[encoded data removed]",
      "text/plain": [
       "<Figure size 432x288 with 2 Axes>"
      ]
     },
     "metadata": {
      "needs_background": "light"
     },
     "output_type": "display_data"
    }
   ],
   "source": [
    "#Plot the corresponding label  of the testset\n",
    "b=test_lb[6].reshape(32,32)\n",
    "\n",
    "plt.imshow(b)\n",
    "plt.colorbar()\n",
    "plt.show()"
   ]
  },
  {
   "cell_type": "code",
   "execution_count": 23,
   "id": "complete-circumstances",
   "metadata": {},
   "outputs": [
    {
     "name": "stdout",
     "output_type": "stream",
     "text": [
      "(23750, 1280)\n",
      "(23750, 1, 1, 1280)\n"
     ]
    }
   ],
   "source": [
    "#Global Average Pooling layer\n",
    "global_average_layer = tf.keras.layers.GlobalAveragePooling2D()\n",
    "feature_batch = base_model(img)\n",
    "feature_batch_average = global_average_layer(feature_batch)\n",
    "print(feature_batch_average.shape)\n",
    "print(feature_batch.shape)\n",
    "#it has 1280 channels in the pretrained model\n",
    "# this is the inputs (16,2,2, 1280) before flatten layer, \n",
    "# to convert it to 1D, then pass it to a classification algorithm"
   ]
  },
  {
   "cell_type": "code",
   "execution_count": null,
   "id": "imperial-milton",
   "metadata": {},
   "outputs": [],
   "source": []
  }
 ],
 "metadata": {
  "kernelspec": {
   "display_name": "Python 3",
   "language": "python",
   "name": "python3"
  },
  "language_info": {
   "codemirror_mode": {
    "name": "ipython",
    "version": 3
   },
   "file_extension": ".py",
   "mimetype": "text/x-python",
   "name": "python",
   "nbconvert_exporter": "python",
   "pygments_lexer": "ipython3",
   "version": "3.8.8"
  }
 },
 "nbformat": 4,
 "nbformat_minor": 5
}
